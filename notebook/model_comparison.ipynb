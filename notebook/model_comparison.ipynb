{
 "cells": [
  {
   "cell_type": "markdown",
   "id": "8efb9fb7",
   "metadata": {},
   "source": [
    "# Load all packages"
   ]
  },
  {
   "cell_type": "code",
   "execution_count": 1,
   "id": "644d1498",
   "metadata": {
    "ExecuteTime": {
     "end_time": "2022-09-30T21:29:43.081646Z",
     "start_time": "2022-09-30T21:29:43.067489Z"
    }
   },
   "outputs": [],
   "source": [
    "# Install the latest Tensorflow version.\n",
    "# !pip3 install --upgrade tensorflow-gpu\n",
    "# Install TF-Hub.\n",
    "# !pip3 install tensorflow-hub\n",
    "# !pip3 install seaborn"
   ]
  },
  {
   "cell_type": "code",
   "execution_count": 2,
   "id": "eb13465e",
   "metadata": {
    "ExecuteTime": {
     "end_time": "2022-09-30T21:29:52.661373Z",
     "start_time": "2022-09-30T21:29:43.084853Z"
    }
   },
   "outputs": [],
   "source": [
    "from absl import logging\n",
    "import sys\n",
    "import tensorflow as tf\n",
    "import tensorflow_hub as hub\n",
    "\n",
    "import matplotlib.pyplot as plt\n",
    "import numpy as np\n",
    "import os\n",
    "import pandas as pd\n",
    "import re\n",
    "import seaborn as sns\n",
    "\n",
    "import bisect\n",
    "from numba import jit \n",
    "\n",
    "import gensim\n",
    "import struct\n",
    "import binascii\n",
    "import bisect\n",
    "import nltk\n",
    "from nltk.tokenize import word_tokenize\n",
    "from collections import OrderedDict\n",
    "\n",
    "import time\n",
    "\n",
    "from sklearn.metrics.pairwise import cosine_similarity \n",
    "from sklearn.feature_extraction.text import TfidfVectorizer \n",
    "from sklearn.metrics.pairwise import euclidean_distances"
   ]
  },
  {
   "cell_type": "code",
   "execution_count": 3,
   "id": "5b562765",
   "metadata": {
    "ExecuteTime": {
     "end_time": "2022-09-30T21:29:57.263226Z",
     "start_time": "2022-09-30T21:29:52.665366Z"
    }
   },
   "outputs": [],
   "source": [
    "sys.path.append('../utility')\n",
    "from text_preprocessing import *\n",
    "from word2vec_def_ref import *\n",
    "from transformer_def_ref import *\n",
    "from tfidf_def_ref import *"
   ]
  },
  {
   "cell_type": "code",
   "execution_count": 4,
   "id": "d38347b0",
   "metadata": {
    "ExecuteTime": {
     "end_time": "2022-09-30T21:29:57.279557Z",
     "start_time": "2022-09-30T21:29:57.266207Z"
    }
   },
   "outputs": [],
   "source": [
    "DATA_DIR = '../data/'\n",
    "INPUT_DATA_FILE = 'angularjs_processed_withimagetext.csv'\n",
    "OUTPUT_DATA_FILE = 'angularjs_w2v.csv'\n",
    "MODEL_DIR = '../models/'\n",
    "MODEL_FILES = ['glove-wiki-gigaword-300.bin','word2vec-google-news-300.bin','fasttext-wiki-news-subwords-300.bin']\n",
    "W2V_COLS = ['W2V_glove','W2V_google','W2V_fasttext']\n",
    "VECTOR_SIZE = 300\n",
    "\n",
    "INPUT_DATA_DIR = '../data/model_perf/'\n",
    "INPUT_DATA_FILE = 'angularjs_w2v.csv'\n",
    "\n",
    "KEYS = ['W2V_glove','W2V_google','W2V_fasttext']\n",
    "MAX_SIMILAR = 5\n",
    "VECTOR_SIZE = 300"
   ]
  },
  {
   "cell_type": "code",
   "execution_count": 5,
   "id": "36f0c2f5",
   "metadata": {
    "ExecuteTime": {
     "end_time": "2022-09-30T21:29:57.294597Z",
     "start_time": "2022-09-30T21:29:57.281586Z"
    }
   },
   "outputs": [],
   "source": [
    "# for transformer\n",
    "TR_DATA_DIR = '../data/model_perf/'\n",
    "TR_INPUT_FILE = 'angularjs_processed_withimagetext.csv'\n",
    "TR_OUTPUT_FILE = 'transformer_vec.csv'\n",
    "TR_OUTPUT_DATA_FILE ='transformer_cos_sim.csv'\n",
    "TR_MAX_SIMILAR = 5\n",
    "TR_VECTOR_SIZE = 768\n",
    "TR_model = 'Transformer_vector'"
   ]
  },
  {
   "cell_type": "code",
   "execution_count": 6,
   "id": "ec15b786",
   "metadata": {
    "ExecuteTime": {
     "end_time": "2022-09-30T21:29:57.310663Z",
     "start_time": "2022-09-30T21:29:57.296589Z"
    }
   },
   "outputs": [],
   "source": [
    "TFIDF_DATA_DIR = '../data/model_perf/'\n",
    "TFIDF_INPUT_FILE = 'angularjs_processed_withimagetext.csv'\n",
    "TFIDF_OUTPUT_FILE = 'tfidf_vec.csv'\n",
    "TFIDF_OUTPUT_DATA_FILE ='tfidf_cos_sim.csv'\n",
    "TFIDF_MAX_SIMILAR = 5\n",
    "TFIDF_VECTOR_SIZE = 300\n",
    "TFIDF_MODEL = 'tfidf_vector'"
   ]
  },
  {
   "cell_type": "markdown",
   "id": "90012ffa",
   "metadata": {},
   "source": [
    "# Define functions"
   ]
  },
  {
   "cell_type": "code",
   "execution_count": 7,
   "id": "7ff8c7fd",
   "metadata": {
    "ExecuteTime": {
     "end_time": "2022-09-30T21:29:57.325682Z",
     "start_time": "2022-09-30T21:29:57.311671Z"
    }
   },
   "outputs": [],
   "source": [
    "def cosine(u, v):\n",
    "    return np.dot(u, v) / (np.linalg.norm(u) * np.linalg.norm(v))"
   ]
  },
  {
   "cell_type": "code",
   "execution_count": 8,
   "id": "a4001267",
   "metadata": {
    "ExecuteTime": {
     "end_time": "2022-09-30T21:29:57.357675Z",
     "start_time": "2022-09-30T21:29:57.330653Z"
    }
   },
   "outputs": [],
   "source": [
    "#@jit(nopython=True)\n",
    "def find_sim_score(df,modelname,vector='default',issue_to_compare=4555):\n",
    "    temp_dict ={}\n",
    "    model_output_dic ={}\n",
    "#     issue_to_compare=4555\n",
    "   \n",
    "    if modelname in ('W2V_glove','W2V_google','W2V_fasttext','Transformer_vector','tfidf_vector'):\n",
    "        vectdict = {}\n",
    "        zeroVec = list(np.zeros((VECTOR_SIZE,), dtype=\"float32\"))\n",
    "        for indx in df.index:\n",
    "            binval = binascii.a2b_base64(df[modelname][indx])\n",
    "            val = np.array(struct.unpack('f'*VECTOR_SIZE, binval))\n",
    "            if list(val) == zeroVec:\n",
    "                continue\n",
    "            vectdict[df['Number'][indx]] = val\n",
    "\n",
    "        for key in vectdict.keys():\n",
    "            if key != issue_to_compare:\n",
    "#                 print(vectdict[Issue_to_Compare].shape)\n",
    "#                 print(vectdict[key].shape)\n",
    "                sim = cosine_similarity_numba(vectdict[issue_to_compare], vectdict[key])\n",
    "                temp_dict.update({key: round(sim,5)})\n",
    "                \n",
    "    else:\n",
    "        index_lst = df.index[df['Number'].isin([issue_to_compare])].tolist()\n",
    "#         print(index_lst)\n",
    "\n",
    "        for key ,vec in zip(df.Number,vector):\n",
    "\n",
    "                if key != issue_to_compare:\n",
    "                    if modelname == 'tfidf':\n",
    "                        sim = cosine_similarity(tfidf_vectors[index_lst[0]], vec)\n",
    "                        temp_dict.update({key: round(sim[0][0],5)})\n",
    "                    else:\n",
    "                        sim = cosine(vector[index_lst[0]],vec)\n",
    "                        temp_dict.update({key: round(sim,5)})\n",
    "     \n",
    "    model_output_dic.update({modelname:temp_dict})\n",
    "    return(model_output_dic)"
   ]
  },
  {
   "cell_type": "code",
   "execution_count": 9,
   "id": "5d855af6",
   "metadata": {
    "ExecuteTime": {
     "end_time": "2022-09-30T21:29:57.373635Z",
     "start_time": "2022-09-30T21:29:57.362676Z"
    }
   },
   "outputs": [],
   "source": [
    "# model_comparison_lst : list of dic of dic\n",
    "def create_consolidated_df(model_comparison_lst):\n",
    "    df_consolidated = None\n",
    "    for dic in model_comparison_lst:\n",
    "        if df_consolidated is None:\n",
    "            df_consolidated = pd.DataFrame.from_dict(dic, orient=\"index\").reset_index()\n",
    "        else:\n",
    "            temp_df = pd.DataFrame.from_dict(dic, orient=\"index\").reset_index()\n",
    "            df_consolidated = pd.concat([df_consolidated, temp_df])\n",
    "\n",
    "    df_final_size = df_consolidated.shape[1]-1\n",
    "#     print(df_final_size)\n",
    "    return(df_consolidated,df_final_size)"
   ]
  },
  {
   "cell_type": "code",
   "execution_count": 10,
   "id": "e9ec3684",
   "metadata": {
    "ExecuteTime": {
     "end_time": "2022-09-30T21:29:57.389578Z",
     "start_time": "2022-09-30T21:29:57.377621Z"
    }
   },
   "outputs": [],
   "source": [
    "def create_empty_df(size,cols = ['models']):\n",
    "    #create empty dataframe for storing sorted defects for each model\n",
    "    for i in range(size):\n",
    "        cols = cols + ['defectnum_' + str(i)] + ['defect_score_' + str(i)]\n",
    "    df = pd.DataFrame()\n",
    "    df[cols] = None\n",
    "    return (df)"
   ]
  },
  {
   "cell_type": "code",
   "execution_count": 11,
   "id": "d43c561b",
   "metadata": {
    "ExecuteTime": {
     "end_time": "2022-09-30T21:29:57.420497Z",
     "start_time": "2022-09-30T21:29:57.393587Z"
    }
   },
   "outputs": [],
   "source": [
    "def create_final_sorted_consolidated_df(df_size,model_comparison_lst):\n",
    "    df = create_empty_df(df_size)\n",
    "    models_lst =[]\n",
    "\n",
    "    for row in range(len(model_comparison_lst)):\n",
    "        for key in model_comparison_lst[row].keys():\n",
    "            models_lst.append(key)\n",
    "    print(models_lst)\n",
    "\n",
    "    df['models'] = models_lst\n",
    "    \n",
    "    for indx in (df.index):\n",
    "    #     print(indx)\n",
    "        for key, dict in model_comparison_lst[indx].items():\n",
    "\n",
    "            simScore = []\n",
    "            simNumber = []\n",
    "\n",
    "            models_lst.append(key)\n",
    "    #         print(f'original dict : {dict}')\n",
    "            d_sorted_by_value = OrderedDict(sorted(dict.items(), key=lambda x: x[1],reverse = True))\n",
    "    #         print(len(d_sorted_by_value))\n",
    "\n",
    "            for k, v in d_sorted_by_value.items():\n",
    "                simNumber.append(k)\n",
    "                simScore.append(v)\n",
    "\n",
    "            for i in range(len(d_sorted_by_value)):\n",
    "                df['defectnum_'  + str(i)][indx] = simNumber[i]\n",
    "                df['defect_score_' + str(i)][indx] = simScore[i]\n",
    "            print(d_sorted_by_value)\n",
    "    return(df)"
   ]
  },
  {
   "cell_type": "markdown",
   "id": "565c6b70",
   "metadata": {},
   "source": [
    "# Load and create filtered Dataset"
   ]
  },
  {
   "cell_type": "code",
   "execution_count": 12,
   "id": "9c054c3d",
   "metadata": {
    "ExecuteTime": {
     "end_time": "2022-09-30T21:29:58.413431Z",
     "start_time": "2022-09-30T21:29:57.422468Z"
    }
   },
   "outputs": [
    {
     "name": "stdout",
     "output_type": "stream",
     "text": [
      "Title_new has 88 NAN values\n",
      "Description_new has 1604 NAN values\n",
      "AttachmentText_new has 16626 NAN values\n",
      "Comments_new has 1451 NAN values\n",
      "\n",
      " ------- \n",
      "\n",
      "Title_new has 0 NAN values\n",
      "Description_new has 0 NAN values\n",
      "AttachmentText_new has 0 NAN values\n",
      "Comments_new has 0 NAN values\n"
     ]
    },
    {
     "data": {
      "text/html": [
       "<div>\n",
       "<style scoped>\n",
       "    .dataframe tbody tr th:only-of-type {\n",
       "        vertical-align: middle;\n",
       "    }\n",
       "\n",
       "    .dataframe tbody tr th {\n",
       "        vertical-align: top;\n",
       "    }\n",
       "\n",
       "    .dataframe thead th {\n",
       "        text-align: right;\n",
       "    }\n",
       "</style>\n",
       "<table border=\"1\" class=\"dataframe\">\n",
       "  <thead>\n",
       "    <tr style=\"text-align: right;\">\n",
       "      <th></th>\n",
       "      <th>Title_new</th>\n",
       "      <th>Description_new</th>\n",
       "      <th>AttachmentText_new</th>\n",
       "      <th>Comments_new</th>\n",
       "    </tr>\n",
       "  </thead>\n",
       "  <tbody>\n",
       "    <tr>\n",
       "      <th>17042</th>\n",
       "      <td>script tag version compatible jquery</td>\n",
       "      <td>note post jusing jquery execute script tag partial template try stripe embed checkout feature script tag require use embed form stripe server example script tag execute jquery investigate issue jquery execute script tag condition meet evaluate executable script document insertionfor hasscript node scripts node globaleval doc node</td>\n",
       "      <td>improve doc view source function module ng overview wrap raw dom element html string jquery element jquery available alias jquery function jquery available delegate angularbuilt subset jquery call jquery lite jqlite jqlite tiny api compatible subset jquery allow angular manipulate dom cross browser compatible way jqlite implement commonly need functionality goal small footprint use jquery simply ensure load angular js file use ngjq directive specify jqlite jquery use specific version jquery multiple version exist page note element reference angular wrap jquery jqlite element argument directivecompile link function raw dom reference note mind function element tag css selector lookup tag try instead document use standard dom apis document queryselectorall angularjqlite jqlite provide follow jquery method addclass support function argument append attr support function parameter bind deprecate use support namespace selector eventdata child support selector clone content xc status type initiator size time waterfall mas kb mst oth heanetinn ecuman â€œr kb ms tent injeciyo ms jsfi disk cach gppongmhjkpfnbhagpmijfkannfbllamg js ok sorip script disk cache ms xc</td>\n",
       "      <td>duplicate</td>\n",
       "    </tr>\n",
       "    <tr>\n",
       "      <th>17043</th>\n",
       "      <td>jquery conflict browser script tagging</td>\n",
       "      <td>rcleanscript problem condition evaluate doc node believe issue introduce animation create document actually contain template ng include currentelement null element response time jquery try evaluate script decide document actually contain element currentelement null element document contain element dom</td>\n",
       "      <td>improve doc view source function module ng overview wrap raw dom element html string jquery element jquery available alias jquery function jquery available delegate angularbuilt subset jquery call jquery lite jqlite jqlite tiny api compatible subset jquery allow angular manipulate dom cross browser compatible way jqlite implement commonly need functionality goal small footprint use jquery simply ensure load angular js file use ngjq directive specify jqlite jquery use specific version jquery multiple version exist page note element reference angular wrap jquery jqlite element argument directivecompile link function raw dom reference note mind function element tag css selector lookup tag try instead document use standard dom apis document queryselectorall angularjqlite jqlite provide follow jquery method addclass support function argument append attr support function parameter bind deprecate use support namespace selector eventdata child support selector clone content xc status type initiator size time waterfall mas kb mst oth heanetinn ecuman â€œr kb ms tent injeciyo ms jsfi disk cach gppongmhjkpfnbhagpmijfkannfbllamg js ok sorip script disk cache ms xc</td>\n",
       "      <td></td>\n",
       "    </tr>\n",
       "    <tr>\n",
       "      <th>17044</th>\n",
       "      <td>java script fail unstable version jquery critical issue report</td>\n",
       "      <td>note post jusing jquery execute script tag partial template</td>\n",
       "      <td>improve doc view source function module ng overview wrap raw dom element html string jquery element jquery available alias jquery function jquery available delegate angularbuilt subset jquery call jquery lite jqlite jqlite tiny api compatible subset jquery allow angular manipulate dom cross browser compatible way jqlite implement commonly need functionality goal small footprint use jquery simply ensure load angular js file use ngjq directive specify jqlite jquery use specific version jquery multiple version exist page note element reference angular wrap jquery jqlite element argument directivecompile link function raw dom reference note mind function element tag css selector lookup tag try instead document use standard dom apis document queryselectorall angularjqlite jqlite provide follow jquery method addclass support function argument append attr support function parameter bind deprecate use support namespace selector eventdata child support selector clone content xc status type initiator size time waterfall mas kb mst oth heanetinn ecuman â€œr kb ms tent injeciyo ms jsfi disk cach gppongmhjkpfnbhagpmijfkannfbllamg js ok sorip script disk cache ms xc</td>\n",
       "      <td>thank pull request look contribution google open source project look pull request need sign contributor license agreement cla information open cla check pull request</td>\n",
       "    </tr>\n",
       "  </tbody>\n",
       "</table>\n",
       "</div>"
      ],
      "text/plain": [
       "                                                            Title_new  \\\n",
       "17042                            script tag version compatible jquery   \n",
       "17043                          jquery conflict browser script tagging   \n",
       "17044  java script fail unstable version jquery critical issue report   \n",
       "\n",
       "                                                                                                                                                                                                                                                                                                                                   Description_new  \\\n",
       "17042  note post jusing jquery execute script tag partial template try stripe embed checkout feature script tag require use embed form stripe server example script tag execute jquery investigate issue jquery execute script tag condition meet evaluate executable script document insertionfor hasscript node scripts node globaleval doc node   \n",
       "17043                               rcleanscript problem condition evaluate doc node believe issue introduce animation create document actually contain template ng include currentelement null element response time jquery try evaluate script decide document actually contain element currentelement null element document contain element dom   \n",
       "17044                                                                                                                                                                                                                                                                                  note post jusing jquery execute script tag partial template   \n",
       "\n",
       "                                                                                                                                                                                                                                                                                                                                                                                                                                                                                                                                                                                                                                                                                                                                                                                                                                                                                                                                                                                                                                                                                                                                                                                                       AttachmentText_new  \\\n",
       "17042  improve doc view source function module ng overview wrap raw dom element html string jquery element jquery available alias jquery function jquery available delegate angularbuilt subset jquery call jquery lite jqlite jqlite tiny api compatible subset jquery allow angular manipulate dom cross browser compatible way jqlite implement commonly need functionality goal small footprint use jquery simply ensure load angular js file use ngjq directive specify jqlite jquery use specific version jquery multiple version exist page note element reference angular wrap jquery jqlite element argument directivecompile link function raw dom reference note mind function element tag css selector lookup tag try instead document use standard dom apis document queryselectorall angularjqlite jqlite provide follow jquery method addclass support function argument append attr support function parameter bind deprecate use support namespace selector eventdata child support selector clone content xc status type initiator size time waterfall mas kb mst oth heanetinn ecuman â€œr kb ms tent injeciyo ms jsfi disk cach gppongmhjkpfnbhagpmijfkannfbllamg js ok sorip script disk cache ms xc   \n",
       "17043  improve doc view source function module ng overview wrap raw dom element html string jquery element jquery available alias jquery function jquery available delegate angularbuilt subset jquery call jquery lite jqlite jqlite tiny api compatible subset jquery allow angular manipulate dom cross browser compatible way jqlite implement commonly need functionality goal small footprint use jquery simply ensure load angular js file use ngjq directive specify jqlite jquery use specific version jquery multiple version exist page note element reference angular wrap jquery jqlite element argument directivecompile link function raw dom reference note mind function element tag css selector lookup tag try instead document use standard dom apis document queryselectorall angularjqlite jqlite provide follow jquery method addclass support function argument append attr support function parameter bind deprecate use support namespace selector eventdata child support selector clone content xc status type initiator size time waterfall mas kb mst oth heanetinn ecuman â€œr kb ms tent injeciyo ms jsfi disk cach gppongmhjkpfnbhagpmijfkannfbllamg js ok sorip script disk cache ms xc   \n",
       "17044  improve doc view source function module ng overview wrap raw dom element html string jquery element jquery available alias jquery function jquery available delegate angularbuilt subset jquery call jquery lite jqlite jqlite tiny api compatible subset jquery allow angular manipulate dom cross browser compatible way jqlite implement commonly need functionality goal small footprint use jquery simply ensure load angular js file use ngjq directive specify jqlite jquery use specific version jquery multiple version exist page note element reference angular wrap jquery jqlite element argument directivecompile link function raw dom reference note mind function element tag css selector lookup tag try instead document use standard dom apis document queryselectorall angularjqlite jqlite provide follow jquery method addclass support function argument append attr support function parameter bind deprecate use support namespace selector eventdata child support selector clone content xc status type initiator size time waterfall mas kb mst oth heanetinn ecuman â€œr kb ms tent injeciyo ms jsfi disk cach gppongmhjkpfnbhagpmijfkannfbllamg js ok sorip script disk cache ms xc   \n",
       "\n",
       "                                                                                                                                                                Comments_new  \n",
       "17042                                                                                                                                                              duplicate  \n",
       "17043                                                                                                                                                                         \n",
       "17044  thank pull request look contribution google open source project look pull request need sign contributor license agreement cla information open cla check pull request  "
      ]
     },
     "execution_count": 12,
     "metadata": {},
     "output_type": "execute_result"
    }
   ],
   "source": [
    "df = pd.read_csv('../data/angularjs_processed_withimagetext.csv')\n",
    "columns = ['Title_new','Description_new','AttachmentText_new','Comments_new']\n",
    "# remove NAN \n",
    "count_nan_values(df,columns,\"\")\n",
    "# df['Number'] = pd.to_numeric(df['Number'])\n",
    "\n",
    "df[columns].tail(3)"
   ]
  },
  {
   "cell_type": "code",
   "execution_count": 13,
   "id": "191de7a3",
   "metadata": {
    "ExecuteTime": {
     "end_time": "2022-09-30T21:29:58.429485Z",
     "start_time": "2022-09-30T21:29:58.417415Z"
    }
   },
   "outputs": [
    {
     "data": {
      "text/plain": [
       "(10, 21)"
      ]
     },
     "execution_count": 13,
     "metadata": {},
     "output_type": "execute_result"
    }
   ],
   "source": [
    "# defects =[17180,9996,14427,4749,5021,10450,8490,9954,12926,10421,1646,7813,11416,5706,3558,9027,7391,16877,\n",
    "#           7134,15887,12187,12496,6548,9092,2258]\n",
    "defects =['4555','4598','4596','4394','4462','19100','19101','19102','19103','7134']\n",
    "# df_new = df[df['Number'].isin([defects])] \n",
    "    \n",
    "df_new = df[df['Number'].isin(defects)]\n",
    "df_new.shape"
   ]
  },
  {
   "cell_type": "code",
   "execution_count": 14,
   "id": "283b23fd",
   "metadata": {
    "ExecuteTime": {
     "end_time": "2022-09-30T21:29:58.444118Z",
     "start_time": "2022-09-30T21:29:58.430489Z"
    }
   },
   "outputs": [
    {
     "data": {
      "text/plain": [
       "(10, 21)"
      ]
     },
     "execution_count": 14,
     "metadata": {},
     "output_type": "execute_result"
    }
   ],
   "source": [
    "df_new.shape"
   ]
  },
  {
   "cell_type": "code",
   "execution_count": 15,
   "id": "fe612f56",
   "metadata": {
    "ExecuteTime": {
     "end_time": "2022-09-30T21:29:58.476166Z",
     "start_time": "2022-09-30T21:29:58.447141Z"
    }
   },
   "outputs": [
    {
     "name": "stderr",
     "output_type": "stream",
     "text": [
      "<ipython-input-15-2b38fc67a0dd>:1: SettingWithCopyWarning: \n",
      "A value is trying to be set on a copy of a slice from a DataFrame.\n",
      "Try using .loc[row_indexer,col_indexer] = value instead\n",
      "\n",
      "See the caveats in the documentation: https://pandas.pydata.org/pandas-docs/stable/user_guide/indexing.html#returning-a-view-versus-a-copy\n",
      "  df_new['IssueText'] = df_new[columns].agg(' '.join, axis=1)\n"
     ]
    }
   ],
   "source": [
    "df_new['IssueText'] = df_new[columns].agg(' '.join, axis=1)"
   ]
  },
  {
   "cell_type": "code",
   "execution_count": 16,
   "id": "7e2e1655",
   "metadata": {
    "ExecuteTime": {
     "end_time": "2022-09-30T21:29:58.492301Z",
     "start_time": "2022-09-30T21:29:58.479159Z"
    }
   },
   "outputs": [
    {
     "data": {
      "text/plain": [
       "Index(['Unnamed: 0', 'Id', 'Number', 'Title', 'LabelsNames',\n",
       "       'LabelDescriptions', 'State', 'CreatedDate', 'ClosedDate', 'IsDraft',\n",
       "       'IssueType', 'Description', 'StateReason', 'AttachmentText',\n",
       "       'Duplicate', 'Comments', 'SimilarityScore', 'Title_new',\n",
       "       'AttachmentText_new', 'Description_new', 'Comments_new', 'IssueText'],\n",
       "      dtype='object')"
      ]
     },
     "execution_count": 16,
     "metadata": {},
     "output_type": "execute_result"
    }
   ],
   "source": [
    "df_new.columns\n"
   ]
  },
  {
   "cell_type": "code",
   "execution_count": 17,
   "id": "5a3e3444",
   "metadata": {
    "ExecuteTime": {
     "end_time": "2022-09-30T21:29:58.538830Z",
     "start_time": "2022-09-30T21:29:58.493749Z"
    }
   },
   "outputs": [
    {
     "data": {
      "text/html": [
       "<div>\n",
       "<style scoped>\n",
       "    .dataframe tbody tr th:only-of-type {\n",
       "        vertical-align: middle;\n",
       "    }\n",
       "\n",
       "    .dataframe tbody tr th {\n",
       "        vertical-align: top;\n",
       "    }\n",
       "\n",
       "    .dataframe thead th {\n",
       "        text-align: right;\n",
       "    }\n",
       "</style>\n",
       "<table border=\"1\" class=\"dataframe\">\n",
       "  <thead>\n",
       "    <tr style=\"text-align: right;\">\n",
       "      <th></th>\n",
       "      <th>Unnamed: 0</th>\n",
       "      <th>Id</th>\n",
       "      <th>Number</th>\n",
       "      <th>Title</th>\n",
       "      <th>LabelsNames</th>\n",
       "      <th>LabelDescriptions</th>\n",
       "      <th>State</th>\n",
       "      <th>CreatedDate</th>\n",
       "      <th>ClosedDate</th>\n",
       "      <th>IsDraft</th>\n",
       "      <th>...</th>\n",
       "      <th>StateReason</th>\n",
       "      <th>AttachmentText</th>\n",
       "      <th>Duplicate</th>\n",
       "      <th>Comments</th>\n",
       "      <th>SimilarityScore</th>\n",
       "      <th>Title_new</th>\n",
       "      <th>AttachmentText_new</th>\n",
       "      <th>Description_new</th>\n",
       "      <th>Comments_new</th>\n",
       "      <th>IssueText</th>\n",
       "    </tr>\n",
       "  </thead>\n",
       "  <tbody>\n",
       "    <tr>\n",
       "      <th>9912</th>\n",
       "      <td>9912</td>\n",
       "      <td>31646776</td>\n",
       "      <td>7134</td>\n",
       "      <td>Prevent Ghost Cliking for old browser ( like android 2.3 ) with ngTouch</td>\n",
       "      <td>type: bug;frequency: low;cla: yes;component: ngTouch;needs: test;severity: broken expected use;</td>\n",
       "      <td>NaN</td>\n",
       "      <td>closed</td>\n",
       "      <td>2014-04-16T14:35:02Z</td>\n",
       "      <td>2016-01-27T19:25:38Z</td>\n",
       "      <td>N</td>\n",
       "      <td>...</td>\n",
       "      <td>NaN</td>\n",
       "      <td>NaN</td>\n",
       "      <td>NaN</td>\n",
       "      <td>Thanks for the PR! Please check the items below to help us merge this faster. See the [contributing docs](https://github.com/angular/angular.js/blob/master/CONTRIBUTING.md#contributing-to-angularjs) for more information.- [ ] Uses the issue template ([#7134](http://issuetemplate.com/#/angular/angular.js/issue/7134))If you need to make changes to your pull request you can update the commit with git commit --amend.Then update the pull request with git push -f.Thanks again for your help!#;;+1#;;Im sorry but I wasnt able to verify your Contributor License Agreement (CLA) signature. CLA signature is required for any code contributions to AngularJS.Please [sign our CLA](https://github.com/angular/angular.js/blob/master/CONTRIBUTING.md#signing-the-cla) and _ensure that the CLA signature email address and the email address in this PRs commits match_. If you signed the CLA as a corporation please let us know the companys name.Thanks a bunch! PS: If you signed the CLA in the past then most likely the email addresses dont match. Please sign the CLA again or update the email address in the commit of this PR. PS2: If you are a Googler please sign the CLA as well to simplify the CLA verification process.#;;CLA signature verified! Thank you!Someone from the team will now triage your PR and it will be processed based on the determined priority (doc updates and fixes with tests are prioritized over other changes).#;;</td>\n",
       "      <td>NaN</td>\n",
       "      <td>prevent ghost clike old browser android ngtouch</td>\n",
       "      <td></td>\n",
       "      <td>request type bughow reproduce bug android ngtouch exemple ngtouch ngtouchpatchedngtouchimpact smallcomplexity smallthis issue relate detailed description comment prevent ghost clike old browser support stopimmediatepropagation android ghost click appear click element select element bug android ngtouch exemple ngtouch ngtouchpatche</td>\n",
       "      <td>thank pr check item help merge fast contribute doc information use issue template angular need change pull request update commit git commit update pull request git push help m sorry able verify contributor license agreement cla signature cla signature require code contribution sign cla ensure cla signature email address email address prs commits match sign cla corporation let know companys bunch ps sign cla past likely email address match sign cla update email address commit pr ps googler sign cla simplify cla verification process cla signature verify thank team triage process base determined priority doc update fix test prioritize change</td>\n",
       "      <td>prevent ghost clike old browser android ngtouch request type bughow reproduce bug android ngtouch exemple ngtouch ngtouchpatchedngtouchimpact smallcomplexity smallthis issue relate detailed description comment prevent ghost clike old browser support stopimmediatepropagation android ghost click appear click element select element bug android ngtouch exemple ngtouch ngtouchpatche  thank pr check item help merge fast contribute doc information use issue template angular need change pull request update commit git commit update pull request git push help m sorry able verify contributor license agreement cla signature cla signature require code contribution sign cla ensure cla signature email address email address prs commits match sign cla corporation let know companys bunch ps sign cla past likely email address match sign cla update email address commit pr ps googler sign cla simplify cla verification process cla signature verify thank team triage process base determined priority doc update fix test prioritize change</td>\n",
       "    </tr>\n",
       "    <tr>\n",
       "      <th>12447</th>\n",
       "      <td>12447</td>\n",
       "      <td>21435391</td>\n",
       "      <td>4598</td>\n",
       "      <td>1.2.0-rc3 regression - $animate.enter uses raw DOM manipulation leaving script blocks unexecuted even if jQuery is included</td>\n",
       "      <td>resolution: duplicate;</td>\n",
       "      <td>NaN</td>\n",
       "      <td>closed</td>\n",
       "      <td>2013-10-23T06:12:41Z</td>\n",
       "      <td>2014-01-09T00:41:12Z</td>\n",
       "      <td>N</td>\n",
       "      <td>...</td>\n",
       "      <td>completed</td>\n",
       "      <td>NaN</td>\n",
       "      <td>Y</td>\n",
       "      <td>Duplicate of #4555.#;;</td>\n",
       "      <td>NaN</td>\n",
       "      <td>regression use raw dom manipulation leave script block unexecuted jquery include</td>\n",
       "      <td></td>\n",
       "      <td>raw dom manipulation attach dom fragment instead jqlite jquery available enter function element parent var afternode var parentnode parent parent afternode undefined pass null var afternextsible afternode null foreach element function node node afternextsibling timeout false cause problem case rely understand jquery specific behavior automatic execution script block attach document nasty surprise change function use jqlite jquery wrapper restore behavior previous version</td>\n",
       "      <td>duplicate</td>\n",
       "      <td>regression use raw dom manipulation leave script block unexecuted jquery include raw dom manipulation attach dom fragment instead jqlite jquery available enter function element parent var afternode var parentnode parent parent afternode undefined pass null var afternextsible afternode null foreach element function node node afternextsibling timeout false cause problem case rely understand jquery specific behavior automatic execution script block attach document nasty surprise change function use jqlite jquery wrapper restore behavior previous version  duplicate</td>\n",
       "    </tr>\n",
       "  </tbody>\n",
       "</table>\n",
       "<p>2 rows × 22 columns</p>\n",
       "</div>"
      ],
      "text/plain": [
       "       Unnamed: 0        Id Number  \\\n",
       "9912         9912  31646776   7134   \n",
       "12447       12447  21435391   4598   \n",
       "\n",
       "                                                                                                                             Title  \\\n",
       "9912                                                       Prevent Ghost Cliking for old browser ( like android 2.3 ) with ngTouch   \n",
       "12447  1.2.0-rc3 regression - $animate.enter uses raw DOM manipulation leaving script blocks unexecuted even if jQuery is included   \n",
       "\n",
       "                                                                                           LabelsNames  \\\n",
       "9912   type: bug;frequency: low;cla: yes;component: ngTouch;needs: test;severity: broken expected use;   \n",
       "12447                                                                           resolution: duplicate;   \n",
       "\n",
       "      LabelDescriptions   State           CreatedDate            ClosedDate  \\\n",
       "9912                NaN  closed  2014-04-16T14:35:02Z  2016-01-27T19:25:38Z   \n",
       "12447               NaN  closed  2013-10-23T06:12:41Z  2014-01-09T00:41:12Z   \n",
       "\n",
       "      IsDraft  ... StateReason AttachmentText Duplicate  \\\n",
       "9912        N  ...         NaN            NaN       NaN   \n",
       "12447       N  ...   completed            NaN         Y   \n",
       "\n",
       "                                                                                                                                                                                                                                                                                                                                                                                                                                                                                                                                                                                                                                                                                                                                                                                                                                                                                                                                                                                                                                                                                                                                                                                                                                                                                                                                                                                                                                                                              Comments  \\\n",
       "9912   Thanks for the PR! Please check the items below to help us merge this faster. See the [contributing docs](https://github.com/angular/angular.js/blob/master/CONTRIBUTING.md#contributing-to-angularjs) for more information.- [ ] Uses the issue template ([#7134](http://issuetemplate.com/#/angular/angular.js/issue/7134))If you need to make changes to your pull request you can update the commit with git commit --amend.Then update the pull request with git push -f.Thanks again for your help!#;;+1#;;Im sorry but I wasnt able to verify your Contributor License Agreement (CLA) signature. CLA signature is required for any code contributions to AngularJS.Please [sign our CLA](https://github.com/angular/angular.js/blob/master/CONTRIBUTING.md#signing-the-cla) and _ensure that the CLA signature email address and the email address in this PRs commits match_. If you signed the CLA as a corporation please let us know the companys name.Thanks a bunch! PS: If you signed the CLA in the past then most likely the email addresses dont match. Please sign the CLA again or update the email address in the commit of this PR. PS2: If you are a Googler please sign the CLA as well to simplify the CLA verification process.#;;CLA signature verified! Thank you!Someone from the team will now triage your PR and it will be processed based on the determined priority (doc updates and fixes with tests are prioritized over other changes).#;;   \n",
       "12447                                                                                                                                                                                                                                                                                                                                                                                                                                                                                                                                                                                                                                                                                                                                                                                                                                                                                                                                                                                                                                                                                                                                                                                                                                                                                                                                                                                                                                                           Duplicate of #4555.#;;   \n",
       "\n",
       "      SimilarityScore  \\\n",
       "9912              NaN   \n",
       "12447             NaN   \n",
       "\n",
       "                                                                              Title_new  \\\n",
       "9912                                    prevent ghost clike old browser android ngtouch   \n",
       "12447  regression use raw dom manipulation leave script block unexecuted jquery include   \n",
       "\n",
       "       AttachmentText_new  \\\n",
       "9912                        \n",
       "12447                       \n",
       "\n",
       "                                                                                                                                                                                                                                                                                                                                                                                                                                                                                   Description_new  \\\n",
       "9912                                                                                                                                                  request type bughow reproduce bug android ngtouch exemple ngtouch ngtouchpatchedngtouchimpact smallcomplexity smallthis issue relate detailed description comment prevent ghost clike old browser support stopimmediatepropagation android ghost click appear click element select element bug android ngtouch exemple ngtouch ngtouchpatche   \n",
       "12447  raw dom manipulation attach dom fragment instead jqlite jquery available enter function element parent var afternode var parentnode parent parent afternode undefined pass null var afternextsible afternode null foreach element function node node afternextsibling timeout false cause problem case rely understand jquery specific behavior automatic execution script block attach document nasty surprise change function use jqlite jquery wrapper restore behavior previous version   \n",
       "\n",
       "                                                                                                                                                                                                                                                                                                                                                                                                                                                                                                                                                                                                                                                                 Comments_new  \\\n",
       "9912   thank pr check item help merge fast contribute doc information use issue template angular need change pull request update commit git commit update pull request git push help m sorry able verify contributor license agreement cla signature cla signature require code contribution sign cla ensure cla signature email address email address prs commits match sign cla corporation let know companys bunch ps sign cla past likely email address match sign cla update email address commit pr ps googler sign cla simplify cla verification process cla signature verify thank team triage process base determined priority doc update fix test prioritize change   \n",
       "12447                                                                                                                                                                                                                                                                                                                                                                                                                                                                                                                                                                                                                                                               duplicate   \n",
       "\n",
       "                                                                                                                                                                                                                                                                                                                                                                                                                                                                                                                                                                                                                                                                                                                                                                                                                                                                                                                                                                                                                                                                  IssueText  \n",
       "9912   prevent ghost clike old browser android ngtouch request type bughow reproduce bug android ngtouch exemple ngtouch ngtouchpatchedngtouchimpact smallcomplexity smallthis issue relate detailed description comment prevent ghost clike old browser support stopimmediatepropagation android ghost click appear click element select element bug android ngtouch exemple ngtouch ngtouchpatche  thank pr check item help merge fast contribute doc information use issue template angular need change pull request update commit git commit update pull request git push help m sorry able verify contributor license agreement cla signature cla signature require code contribution sign cla ensure cla signature email address email address prs commits match sign cla corporation let know companys bunch ps sign cla past likely email address match sign cla update email address commit pr ps googler sign cla simplify cla verification process cla signature verify thank team triage process base determined priority doc update fix test prioritize change  \n",
       "12447                                                                                                                                                                                                                                                                                                                                                                                                                                                                               regression use raw dom manipulation leave script block unexecuted jquery include raw dom manipulation attach dom fragment instead jqlite jquery available enter function element parent var afternode var parentnode parent parent afternode undefined pass null var afternextsible afternode null foreach element function node node afternextsibling timeout false cause problem case rely understand jquery specific behavior automatic execution script block attach document nasty surprise change function use jqlite jquery wrapper restore behavior previous version  duplicate  \n",
       "\n",
       "[2 rows x 22 columns]"
      ]
     },
     "execution_count": 17,
     "metadata": {},
     "output_type": "execute_result"
    }
   ],
   "source": [
    "df_new.head(2)"
   ]
  },
  {
   "cell_type": "code",
   "execution_count": 18,
   "id": "177163d2",
   "metadata": {
    "ExecuteTime": {
     "end_time": "2022-09-30T21:29:58.554327Z",
     "start_time": "2022-09-30T21:29:58.540831Z"
    }
   },
   "outputs": [],
   "source": [
    "df_new.to_csv('../data/model_perf/original_filtered_defects.csv', index=False, encoding='utf-8')"
   ]
  },
  {
   "cell_type": "code",
   "execution_count": 19,
   "id": "a63ebbb2",
   "metadata": {
    "ExecuteTime": {
     "end_time": "2022-09-30T21:29:58.585119Z",
     "start_time": "2022-09-30T21:29:58.558796Z"
    }
   },
   "outputs": [],
   "source": [
    "df2 = pd.read_csv('../data/model_perf/original_filtered_defects.csv', encoding='utf-8')"
   ]
  },
  {
   "cell_type": "code",
   "execution_count": 20,
   "id": "a6e1dcaa",
   "metadata": {
    "ExecuteTime": {
     "end_time": "2022-09-30T21:29:58.600521Z",
     "start_time": "2022-09-30T21:29:58.587106Z"
    }
   },
   "outputs": [],
   "source": [
    "df2 = df2[['Number','IssueText']]\n",
    "df2.reset_index(drop=True, inplace=True)"
   ]
  },
  {
   "cell_type": "code",
   "execution_count": 21,
   "id": "afee8db0",
   "metadata": {
    "ExecuteTime": {
     "end_time": "2022-09-30T21:29:58.615922Z",
     "start_time": "2022-09-30T21:29:58.602505Z"
    }
   },
   "outputs": [
    {
     "data": {
      "text/html": [
       "<div>\n",
       "<style scoped>\n",
       "    .dataframe tbody tr th:only-of-type {\n",
       "        vertical-align: middle;\n",
       "    }\n",
       "\n",
       "    .dataframe tbody tr th {\n",
       "        vertical-align: top;\n",
       "    }\n",
       "\n",
       "    .dataframe thead th {\n",
       "        text-align: right;\n",
       "    }\n",
       "</style>\n",
       "<table border=\"1\" class=\"dataframe\">\n",
       "  <thead>\n",
       "    <tr style=\"text-align: right;\">\n",
       "      <th></th>\n",
       "      <th>Number</th>\n",
       "      <th>IssueText</th>\n",
       "    </tr>\n",
       "  </thead>\n",
       "  <tbody>\n",
       "    <tr>\n",
       "      <th>0</th>\n",
       "      <td>7134</td>\n",
       "      <td>prevent ghost clike old browser android ngtouch request type bughow reproduce bug android ngtouch exemple ngtouch ngtouchpatchedngtouchimpact smallcomplexity smallthis issue relate detailed description comment prevent ghost clike old browser support stopimmediatepropagation android ghost click appear click element select element bug android ngtouch exemple ngtouch ngtouchpatche  thank pr check item help merge fast contribute doc information use issue template angular need change pull request update commit git commit update pull request git push help m sorry able verify contributor license agreement cla signature cla signature require code contribution sign cla ensure cla signature email address email address prs commits match sign cla corporation let know companys bunch ps sign cla past likely email address match sign cla update email address commit pr ps googler sign cla simplify cla verification process cla signature verify thank team triage process base determined priority doc update fix test prioritize change</td>\n",
       "    </tr>\n",
       "    <tr>\n",
       "      <th>1</th>\n",
       "      <td>4598</td>\n",
       "      <td>regression use raw dom manipulation leave script block unexecuted jquery include raw dom manipulation attach dom fragment instead jqlite jquery available enter function element parent var afternode var parentnode parent parent afternode undefined pass null var afternextsible afternode null foreach element function node node afternextsibling timeout false cause problem case rely understand jquery specific behavior automatic execution script block attach document nasty surprise change function use jqlite jquery wrapper restore behavior previous version  duplicate</td>\n",
       "    </tr>\n",
       "  </tbody>\n",
       "</table>\n",
       "</div>"
      ],
      "text/plain": [
       "   Number  \\\n",
       "0    7134   \n",
       "1    4598   \n",
       "\n",
       "                                                                                                                                                                                                                                                                                                                                                                                                                                                                                                                                                                                                                                                                                                                                                                                                                                                                                                                                                                                                                                                              IssueText  \n",
       "0  prevent ghost clike old browser android ngtouch request type bughow reproduce bug android ngtouch exemple ngtouch ngtouchpatchedngtouchimpact smallcomplexity smallthis issue relate detailed description comment prevent ghost clike old browser support stopimmediatepropagation android ghost click appear click element select element bug android ngtouch exemple ngtouch ngtouchpatche  thank pr check item help merge fast contribute doc information use issue template angular need change pull request update commit git commit update pull request git push help m sorry able verify contributor license agreement cla signature cla signature require code contribution sign cla ensure cla signature email address email address prs commits match sign cla corporation let know companys bunch ps sign cla past likely email address match sign cla update email address commit pr ps googler sign cla simplify cla verification process cla signature verify thank team triage process base determined priority doc update fix test prioritize change  \n",
       "1                                                                                                                                                                                                                                                                                                                                                                                                                                                                               regression use raw dom manipulation leave script block unexecuted jquery include raw dom manipulation attach dom fragment instead jqlite jquery available enter function element parent var afternode var parentnode parent parent afternode undefined pass null var afternextsible afternode null foreach element function node node afternextsibling timeout false cause problem case rely understand jquery specific behavior automatic execution script block attach document nasty surprise change function use jqlite jquery wrapper restore behavior previous version  duplicate  "
      ]
     },
     "execution_count": 21,
     "metadata": {},
     "output_type": "execute_result"
    }
   ],
   "source": [
    "df2.head(2)"
   ]
  },
  {
   "cell_type": "code",
   "execution_count": 22,
   "id": "a29b53e8",
   "metadata": {
    "ExecuteTime": {
     "end_time": "2022-09-30T21:29:58.630897Z",
     "start_time": "2022-09-30T21:29:58.618391Z"
    }
   },
   "outputs": [],
   "source": [
    "df2.to_csv('../data/model_perf/filtered_defects.csv', index=False, encoding='utf-8')"
   ]
  },
  {
   "cell_type": "markdown",
   "id": "89636354",
   "metadata": {},
   "source": [
    "# create vectors from different models"
   ]
  },
  {
   "cell_type": "markdown",
   "id": "fe9940a1",
   "metadata": {},
   "source": [
    "## word2vec vectorization"
   ]
  },
  {
   "cell_type": "code",
   "execution_count": 23,
   "id": "9c670a41",
   "metadata": {
    "ExecuteTime": {
     "end_time": "2022-09-30T21:29:58.678562Z",
     "start_time": "2022-09-30T21:29:58.639877Z"
    }
   },
   "outputs": [],
   "source": [
    "df = pd.read_csv('../data/model_perf/filtered_defects.csv')"
   ]
  },
  {
   "cell_type": "code",
   "execution_count": 24,
   "id": "68cad6b7",
   "metadata": {
    "ExecuteTime": {
     "end_time": "2022-09-30T21:29:58.694684Z",
     "start_time": "2022-09-30T21:29:58.682548Z"
    }
   },
   "outputs": [
    {
     "data": {
      "text/plain": [
       "(10, 2)"
      ]
     },
     "execution_count": 24,
     "metadata": {},
     "output_type": "execute_result"
    }
   ],
   "source": [
    "df.shape"
   ]
  },
  {
   "cell_type": "code",
   "execution_count": 25,
   "id": "eca36e13",
   "metadata": {
    "ExecuteTime": {
     "end_time": "2022-09-30T21:30:51.676289Z",
     "start_time": "2022-09-30T21:29:58.696390Z"
    }
   },
   "outputs": [
    {
     "name": "stderr",
     "output_type": "stream",
     "text": [
      "../utility\\word2vec_def_ref.py:83: SettingWithCopyWarning: \n",
      "A value is trying to be set on a copy of a slice from a DataFrame\n",
      "\n",
      "See the caveats in the documentation: https://pandas.pydata.org/pandas-docs/stable/user_guide/indexing.html#returning-a-view-versus-a-copy\n",
      "  db[W2V_COLS[i]][indx] = valStr\n"
     ]
    }
   ],
   "source": [
    "df_word2vec = calcVectors(df,W2V_COLS,MODEL_DIR,MODEL_FILES)"
   ]
  },
  {
   "cell_type": "code",
   "execution_count": 26,
   "id": "5feccec0",
   "metadata": {
    "ExecuteTime": {
     "end_time": "2022-09-30T21:30:51.798070Z",
     "start_time": "2022-09-30T21:30:51.696227Z"
    }
   },
   "outputs": [],
   "source": [
    "df_word2vec.to_csv('../data/model_perf/word2vec_filtered_defects.csv', index=False, encoding='utf-8')"
   ]
  },
  {
   "cell_type": "markdown",
   "id": "a005910f",
   "metadata": {},
   "source": [
    "\n",
    "## universal encoder - vectorization"
   ]
  },
  {
   "cell_type": "code",
   "execution_count": 27,
   "id": "4338f8e4",
   "metadata": {
    "ExecuteTime": {
     "end_time": "2022-09-30T21:31:02.872137Z",
     "start_time": "2022-09-30T21:30:51.799999Z"
    }
   },
   "outputs": [
    {
     "name": "stdout",
     "output_type": "stream",
     "text": [
      "module https://tfhub.dev/google/universal-sentence-encoder/4 loaded\n"
     ]
    }
   ],
   "source": [
    "module_url = \"https://tfhub.dev/google/universal-sentence-encoder/4\" #@param [\"https://tfhub.dev/google/universal-sentence-encoder/4\", \"https://tfhub.dev/google/universal-sentence-encoder-large/5\"]\n",
    "uni_enc_model = hub.load(module_url)\n",
    "print (f'module {module_url} loaded' )"
   ]
  },
  {
   "cell_type": "code",
   "execution_count": 28,
   "id": "d00b641a",
   "metadata": {
    "ExecuteTime": {
     "end_time": "2022-09-30T21:31:02.887971Z",
     "start_time": "2022-09-30T21:31:02.875559Z"
    }
   },
   "outputs": [],
   "source": [
    "def uni_enc_model_embedding(input):\n",
    "  return uni_enc_model(input)"
   ]
  },
  {
   "cell_type": "code",
   "execution_count": 29,
   "id": "6829e389",
   "metadata": {
    "ExecuteTime": {
     "end_time": "2022-09-30T21:31:03.594185Z",
     "start_time": "2022-09-30T21:31:02.890961Z"
    }
   },
   "outputs": [
    {
     "data": {
      "text/plain": [
       "TensorShape([10, 512])"
      ]
     },
     "execution_count": 29,
     "metadata": {},
     "output_type": "execute_result"
    }
   ],
   "source": [
    "# Reduce logging output.\n",
    "logging.set_verbosity(logging.ERROR)\n",
    "combined_IssueText_embeddings = uni_enc_model_embedding(df['IssueText'])\n",
    "combined_IssueText_embeddings.shape"
   ]
  },
  {
   "cell_type": "code",
   "execution_count": 30,
   "id": "cf917878",
   "metadata": {
    "ExecuteTime": {
     "end_time": "2022-09-30T21:31:03.625575Z",
     "start_time": "2022-09-30T21:31:03.599116Z"
    }
   },
   "outputs": [
    {
     "name": "stdout",
     "output_type": "stream",
     "text": [
      "defect : 7134 \n",
      "Embedding size: 512\n",
      "Embedding embedding snippet: ['-0.030751705169677734, -0.055367063730955124'] \n",
      "\n",
      "defect : 4598 \n",
      "Embedding size: 512\n",
      "Embedding embedding snippet: ['0.004607335664331913, -0.05738189071416855'] \n",
      "\n"
     ]
    }
   ],
   "source": [
    "for i, combined_IssueText_embedding in enumerate(np.array(combined_IssueText_embeddings).tolist()[0:2]):\n",
    "  print(\"defect : {} \".format(df['Number'][i]))\n",
    "#   print(\"IssuesText : {} \".format(df2['IssueText'][i]))\n",
    "  print(\"Embedding size: {}\".format(len(combined_IssueText_embedding)))\n",
    "  print(f'Embedding embedding snippet: {[\", \".join(str(x) for x in combined_IssueText_embedding[:2])]} \\n')"
   ]
  },
  {
   "cell_type": "markdown",
   "id": "b815f198",
   "metadata": {},
   "source": [
    "## tfidf - vectorization"
   ]
  },
  {
   "cell_type": "code",
   "execution_count": 31,
   "id": "69dc0433",
   "metadata": {
    "ExecuteTime": {
     "end_time": "2022-09-30T21:31:03.640833Z",
     "start_time": "2022-09-30T21:31:03.627571Z"
    }
   },
   "outputs": [],
   "source": [
    "# tfidfvectoriser=TfidfVectorizer()\n",
    "# tfidf_vectors= tfidfvectoriser.fit_transform(df_new['IssueText'])"
   ]
  },
  {
   "cell_type": "code",
   "execution_count": 32,
   "id": "165d1723",
   "metadata": {
    "ExecuteTime": {
     "end_time": "2022-09-30T21:31:03.702678Z",
     "start_time": "2022-09-30T21:31:03.641793Z"
    }
   },
   "outputs": [
    {
     "data": {
      "text/plain": [
       "Index(['Number', 'IssueText'], dtype='object')"
      ]
     },
     "execution_count": 32,
     "metadata": {},
     "output_type": "execute_result"
    }
   ],
   "source": [
    "df = pd.read_csv('../data/model_perf/filtered_defects.csv')\n",
    "df.columns"
   ]
  },
  {
   "cell_type": "code",
   "execution_count": 33,
   "id": "a8df9054",
   "metadata": {
    "ExecuteTime": {
     "end_time": "2022-09-30T21:31:03.810576Z",
     "start_time": "2022-09-30T21:31:03.705687Z"
    }
   },
   "outputs": [
    {
     "name": "stdout",
     "output_type": "stream",
     "text": [
      "sanitizing Vectors (zero vector check)\n"
     ]
    },
    {
     "name": "stderr",
     "output_type": "stream",
     "text": [
      "../utility\\tfidf_def_ref.py:78: SettingWithCopyWarning: \n",
      "A value is trying to be set on a copy of a slice from a DataFrame\n",
      "\n",
      "See the caveats in the documentation: https://pandas.pydata.org/pandas-docs/stable/user_guide/indexing.html#returning-a-view-versus-a-copy\n",
      "  db[model][i] = valStr\n"
     ]
    }
   ],
   "source": [
    "df_tfidf = calculate_tfidf_vectors(df,TFIDF_MODEL,TFIDF_VECTOR_SIZE)"
   ]
  },
  {
   "cell_type": "code",
   "execution_count": 34,
   "id": "8aeae558",
   "metadata": {
    "ExecuteTime": {
     "end_time": "2022-09-30T21:31:03.841967Z",
     "start_time": "2022-09-30T21:31:03.815460Z"
    }
   },
   "outputs": [
    {
     "data": {
      "text/html": [
       "<div>\n",
       "<style scoped>\n",
       "    .dataframe tbody tr th:only-of-type {\n",
       "        vertical-align: middle;\n",
       "    }\n",
       "\n",
       "    .dataframe tbody tr th {\n",
       "        vertical-align: top;\n",
       "    }\n",
       "\n",
       "    .dataframe thead th {\n",
       "        text-align: right;\n",
       "    }\n",
       "</style>\n",
       "<table border=\"1\" class=\"dataframe\">\n",
       "  <thead>\n",
       "    <tr style=\"text-align: right;\">\n",
       "      <th></th>\n",
       "      <th>Number</th>\n",
       "      <th>tfidf_vector</th>\n",
       "    </tr>\n",
       "  </thead>\n",
       "  <tbody>\n",
       "    <tr>\n",
       "      <th>0</th>\n",
       "      <td>7134</td>\n",
       "      <td>AAAAAAAAAAAAAAAAAAAAAAWCbj4AAAAAAAAAAAAAAAAAAAAAAAAAAOXASj0AAAAAAAAAAAAAAAAAAAAABYJuPo+G6DwAAAAAAAAAAAAAAAAAAAAAAAAAAAAAAAAAAAAAAAAAAAAAAAAAAAAAAAAAAAAAAAAAAAAAAAAAAAAAAAAAAAAAAAAAAAAAAAAAAAAAAAAAAAAAAABStZ09UrWdPQWCbj0AAAAA5cBKPQAAAAAAAAAAAAAAAAAAAADlwMo95cBKPQAAAAAAAAAAAAAAAB5x/T4Fgu49BYLuPQAAAAAAAAAA5cBKPQAAAACD4TI+AAAAAAAAAAAAAAAAAAAAAAAAAAAAAAAAAAAAAOXASj3lwEo95cBKPQAAAAAAAAAAAAAAAAAAAAAAAAAAAAAAAAAAAAAAAAAAAAAAAAAAAAAAAAAAAAAAAAAAAACPhmg9AAAAAAAAAAAAAAAAAAAAAI+GaD0Fgm4+AAAAAAAAAABStR09AAAAAAAAAAAAAAAAAAAAAAAAAAAAAAAAAAAAAAWC7j0AAAAAAAAAAAAAAAAAAAAAAAAAAAAAAAAAAAAApmIxPQAAAAAAAAAAAAAAAAAAAAAAAAAAAAAAAAAAAAAAAAAAg+EyPgWC7j0AAAAAAAAAAAAAAAAAAAAAAAAAAAAAAAAAAAAAUrWdPQAAAAAAAAAAAAAAAAAAAAAAAAAAAAAAAAAAAADlwEo9AAAAAAAAAAAAAAAAAAAAAAAAAAAAAAAAAAAAAAAAAADNwFM9AAAAAAAAAAAAAAAAAAAAAAAAAAAAAAAA5cBKPQAAAADlwEo9AAAAAAAAAAAAAAAAAAAAAAAAAAAAAAAAAAAAAAAAAAAAAAAABYLuPQAAAAAAAAAAAAAAAAAAAAAAAAAAAAAAAAAAAAAAAAAAAAAAAAAAAABStR09AAAAAAAAAAAAAAAAAAAAAAAAAAAAAAAAQxGVPgAAAAAAAAAAAAAAAAAAAAAFgu49AAAAAAAAAAAAAAAAAAAAAAAAAAAAAAAAAAAAAAAAAAAAAAAA5cDKPeXAyj0AAAAABYLuPQAAAAAFgu495cDKPQAAAAAAAAAAAAAAAAAAAAAAAAAA5cBKPQAAAAD9CQU+UrUdPQAAAAAAAAAAAAAAAAAAAAAAAAAAAAAAAAAAAAAAAAAAAAAAAAAAAAAFgm49AAAAAAAAAAAAAAAAAAAAAAAAAAAAAAAAHnF9PgWCbj4Fgm49AAAAAAAAAAAAAAAABYJuPQWCbj0AAAAAAAAAAAAAAAAFgm49AAAAAAAAAAAAAAAAAAAAAAAAAAAAAAAAAAAAAAAAAAAAAAAAAAAAAAAAAAAAAAAAAAAAAFK1HT0AAAAAj4boPAAAAADlwEo9qwmAPQAAAAAAAAAAAAAAAAAAAAAFgm49AAAAAAAAAACGoQ09AAAAAAAAAAAAAAAAAAAAAAAAAAAAAAAAAAAAAAAAAAAFgm4+AAAAAOcrwTwAAAAAAAAAAAAAAAAFgm49BYLuPQAAAAAAAAAAAAAAAAAAAAAAAAAAAAAAAAAAAAAAAAAAAAAAAAAAAAAAAAAAAAAAAAAAAAAAAAAAAAAAAAAAAAAAAAAA</td>\n",
       "    </tr>\n",
       "    <tr>\n",
       "      <th>1</th>\n",
       "      <td>4598</td>\n",
       "      <td>AAAAAAAAAAAAAAAAAAAAAAAAAAAAAAAAAAAAAH5P9T1+T/U9nvu3PgAAAAAAAAAAAAAAAAAAAAAAAAAAAAAAAAAAAAAAAAAAAAAAAAAAAAAAAAAAAAAAAAAAAAAAAAAAAAAAAH5PdT4AAAAAirCDPU6JUD4AAAAAAAAAAAAAAABOiVA+AAAAAAAAAAAAAAAAAAAAAAAAAAAAAAAAAAAAAAAAAAAAAAAAAAAAAAAAAAAAAAAAAAAAAE6J0D1OidA9AAAAAAAAAAAAAAAAAAAAAAAAAAAAAAAAAAAAAAAAAAAAAAAAAAAAAAAAAAAAAAAAAAAAAAAAAAAAAAAAAAAAAAAAAAAAAAAAAAAAAAAAAAAAAAAAAAAAAAAAAAAAAAAAAAAAAAAAAAAAAAAAAAAAAAAAAAAAAAAAAAAAAAAAAAAAAAAAAAAAAAAAAAAAAAAAWihvPc+IRT7VNKI9AAAAAFoo7z0AAAAAAAAAAAAAAAAAAAAAAAAAAAAAAAAAAAAAAAAAAAAAAAAAAAAAAAAAAAAAAAAAAAAAAAAAAE6J0D0AAAAAAAAAAAAAAAAAAAAAAAAAAAAAAAAAAAAAfk/1PQAAAAAAAAAAQ14zPgAAAAAAAAAAAAAAAAAAAAAAAAAAAAAAAAAAAAAAAAAAAAAAAAAAAAAAAAAAAAAAAAAAAAAAAAAAAAAAAAAAAAAAAAAAAAAAAIqwgz0AAAAAAAAAAAAAAAAAAAAAAAAAAAAAAADVNKI9AAAAAAAAAAAAAAAA1TQiPoqwgz4AAAAAAAAAAAAAAAAAAAAAAAAAAAAAAAAAAAAAAAAAAAAAAAAAAAAAAAAAAAAAAAAAAAAAAAAAAH5PdT4AAAAAAAAAAAAAAAAAAAAAAAAAAAAAAAAAAAAAAAAAAAAAAAAAAAAAAAAAAAAAAAAAAAAAAAAAAAAAAAAAAAAAAAAAAAAAAAAAAAAAAAAAAKarET4AAAAA1TQiPgAAAAAAAAAAAAAAAAAAAAAAAAAAAAAAAAAAAACe+7c+AAAAAAAAAAAAAAAAAAAAAAAAAACKsIM9AAAAAAAAAAAAAAAAAAAAAAAAAADVNCI+AAAAAAAAAAAAAAAAAAAAAAAAAAAAAAAAAAAAAAAAAAB+T/U9AAAAAAAAAAAAAAAAAAAAAOzK2T0AAAAAAAAAAAAAAAAAAAAAAAAAAAAAAAAAAAAAAAAAAAAAAAAAAAAAAAAAAAAAAAAAAAAAAAAAAAAAAAAAAAAAAAAAAAAAAAAAAAAAAAAAAAAAAAAAAAAAAAAAAAAAAADVNKI9AAAAAAAAAAAAAAAAAAAAAAAAAAAAAAAAAAAAAAAAAAAAAAAAAAAAAAAAAAAAAAAAAAAAAAAAAAAAAAAAAAAAAAAAAAAAAAAAAAAAAAAAAAAAAAAAAAAAAAAAAAAAAAAAAAAAAAAAAAB+T/U9AAAAAH5P9T1+T/U9AAAAAAAAAAAAAAAAAAAAAFmuxj0AAAAAAAAAAPpmnD4AAAAAAAAAANU0oj0AAAAAAAAAAAAAAAAAAAAAAAAAAAAAAAAAAAAAAAAAAAAAAAAAAAAAAAAAAH5P9T0AAAAAAAAAAAAAAAAAAAAA</td>\n",
       "    </tr>\n",
       "  </tbody>\n",
       "</table>\n",
       "</div>"
      ],
      "text/plain": [
       "   Number  \\\n",
       "0    7134   \n",
       "1    4598   \n",
       "\n",
       "                                                                                                                                                                                                                                                                                                                                                                                                                                                                                                                                                                                                                                                                                                                                                                                                                                                                                                                                                                                                                                                                                                                                                                                                                                                                                                                                                                                                                                                                                                                                                                                                                                                       tfidf_vector  \n",
       "0  AAAAAAAAAAAAAAAAAAAAAAWCbj4AAAAAAAAAAAAAAAAAAAAAAAAAAOXASj0AAAAAAAAAAAAAAAAAAAAABYJuPo+G6DwAAAAAAAAAAAAAAAAAAAAAAAAAAAAAAAAAAAAAAAAAAAAAAAAAAAAAAAAAAAAAAAAAAAAAAAAAAAAAAAAAAAAAAAAAAAAAAAAAAAAAAAAAAAAAAABStZ09UrWdPQWCbj0AAAAA5cBKPQAAAAAAAAAAAAAAAAAAAADlwMo95cBKPQAAAAAAAAAAAAAAAB5x/T4Fgu49BYLuPQAAAAAAAAAA5cBKPQAAAACD4TI+AAAAAAAAAAAAAAAAAAAAAAAAAAAAAAAAAAAAAOXASj3lwEo95cBKPQAAAAAAAAAAAAAAAAAAAAAAAAAAAAAAAAAAAAAAAAAAAAAAAAAAAAAAAAAAAAAAAAAAAACPhmg9AAAAAAAAAAAAAAAAAAAAAI+GaD0Fgm4+AAAAAAAAAABStR09AAAAAAAAAAAAAAAAAAAAAAAAAAAAAAAAAAAAAAWC7j0AAAAAAAAAAAAAAAAAAAAAAAAAAAAAAAAAAAAApmIxPQAAAAAAAAAAAAAAAAAAAAAAAAAAAAAAAAAAAAAAAAAAg+EyPgWC7j0AAAAAAAAAAAAAAAAAAAAAAAAAAAAAAAAAAAAAUrWdPQAAAAAAAAAAAAAAAAAAAAAAAAAAAAAAAAAAAADlwEo9AAAAAAAAAAAAAAAAAAAAAAAAAAAAAAAAAAAAAAAAAADNwFM9AAAAAAAAAAAAAAAAAAAAAAAAAAAAAAAA5cBKPQAAAADlwEo9AAAAAAAAAAAAAAAAAAAAAAAAAAAAAAAAAAAAAAAAAAAAAAAABYLuPQAAAAAAAAAAAAAAAAAAAAAAAAAAAAAAAAAAAAAAAAAAAAAAAAAAAABStR09AAAAAAAAAAAAAAAAAAAAAAAAAAAAAAAAQxGVPgAAAAAAAAAAAAAAAAAAAAAFgu49AAAAAAAAAAAAAAAAAAAAAAAAAAAAAAAAAAAAAAAAAAAAAAAA5cDKPeXAyj0AAAAABYLuPQAAAAAFgu495cDKPQAAAAAAAAAAAAAAAAAAAAAAAAAA5cBKPQAAAAD9CQU+UrUdPQAAAAAAAAAAAAAAAAAAAAAAAAAAAAAAAAAAAAAAAAAAAAAAAAAAAAAFgm49AAAAAAAAAAAAAAAAAAAAAAAAAAAAAAAAHnF9PgWCbj4Fgm49AAAAAAAAAAAAAAAABYJuPQWCbj0AAAAAAAAAAAAAAAAFgm49AAAAAAAAAAAAAAAAAAAAAAAAAAAAAAAAAAAAAAAAAAAAAAAAAAAAAAAAAAAAAAAAAAAAAFK1HT0AAAAAj4boPAAAAADlwEo9qwmAPQAAAAAAAAAAAAAAAAAAAAAFgm49AAAAAAAAAACGoQ09AAAAAAAAAAAAAAAAAAAAAAAAAAAAAAAAAAAAAAAAAAAFgm4+AAAAAOcrwTwAAAAAAAAAAAAAAAAFgm49BYLuPQAAAAAAAAAAAAAAAAAAAAAAAAAAAAAAAAAAAAAAAAAAAAAAAAAAAAAAAAAAAAAAAAAAAAAAAAAAAAAAAAAAAAAAAAAA  \n",
       "1  AAAAAAAAAAAAAAAAAAAAAAAAAAAAAAAAAAAAAH5P9T1+T/U9nvu3PgAAAAAAAAAAAAAAAAAAAAAAAAAAAAAAAAAAAAAAAAAAAAAAAAAAAAAAAAAAAAAAAAAAAAAAAAAAAAAAAH5PdT4AAAAAirCDPU6JUD4AAAAAAAAAAAAAAABOiVA+AAAAAAAAAAAAAAAAAAAAAAAAAAAAAAAAAAAAAAAAAAAAAAAAAAAAAAAAAAAAAAAAAAAAAE6J0D1OidA9AAAAAAAAAAAAAAAAAAAAAAAAAAAAAAAAAAAAAAAAAAAAAAAAAAAAAAAAAAAAAAAAAAAAAAAAAAAAAAAAAAAAAAAAAAAAAAAAAAAAAAAAAAAAAAAAAAAAAAAAAAAAAAAAAAAAAAAAAAAAAAAAAAAAAAAAAAAAAAAAAAAAAAAAAAAAAAAAAAAAAAAAAAAAAAAAWihvPc+IRT7VNKI9AAAAAFoo7z0AAAAAAAAAAAAAAAAAAAAAAAAAAAAAAAAAAAAAAAAAAAAAAAAAAAAAAAAAAAAAAAAAAAAAAAAAAE6J0D0AAAAAAAAAAAAAAAAAAAAAAAAAAAAAAAAAAAAAfk/1PQAAAAAAAAAAQ14zPgAAAAAAAAAAAAAAAAAAAAAAAAAAAAAAAAAAAAAAAAAAAAAAAAAAAAAAAAAAAAAAAAAAAAAAAAAAAAAAAAAAAAAAAAAAAAAAAIqwgz0AAAAAAAAAAAAAAAAAAAAAAAAAAAAAAADVNKI9AAAAAAAAAAAAAAAA1TQiPoqwgz4AAAAAAAAAAAAAAAAAAAAAAAAAAAAAAAAAAAAAAAAAAAAAAAAAAAAAAAAAAAAAAAAAAAAAAAAAAH5PdT4AAAAAAAAAAAAAAAAAAAAAAAAAAAAAAAAAAAAAAAAAAAAAAAAAAAAAAAAAAAAAAAAAAAAAAAAAAAAAAAAAAAAAAAAAAAAAAAAAAAAAAAAAAKarET4AAAAA1TQiPgAAAAAAAAAAAAAAAAAAAAAAAAAAAAAAAAAAAACe+7c+AAAAAAAAAAAAAAAAAAAAAAAAAACKsIM9AAAAAAAAAAAAAAAAAAAAAAAAAADVNCI+AAAAAAAAAAAAAAAAAAAAAAAAAAAAAAAAAAAAAAAAAAB+T/U9AAAAAAAAAAAAAAAAAAAAAOzK2T0AAAAAAAAAAAAAAAAAAAAAAAAAAAAAAAAAAAAAAAAAAAAAAAAAAAAAAAAAAAAAAAAAAAAAAAAAAAAAAAAAAAAAAAAAAAAAAAAAAAAAAAAAAAAAAAAAAAAAAAAAAAAAAADVNKI9AAAAAAAAAAAAAAAAAAAAAAAAAAAAAAAAAAAAAAAAAAAAAAAAAAAAAAAAAAAAAAAAAAAAAAAAAAAAAAAAAAAAAAAAAAAAAAAAAAAAAAAAAAAAAAAAAAAAAAAAAAAAAAAAAAAAAAAAAAB+T/U9AAAAAH5P9T1+T/U9AAAAAAAAAAAAAAAAAAAAAFmuxj0AAAAAAAAAAPpmnD4AAAAAAAAAANU0oj0AAAAAAAAAAAAAAAAAAAAAAAAAAAAAAAAAAAAAAAAAAAAAAAAAAAAAAAAAAH5P9T0AAAAAAAAAAAAAAAAAAAAA  "
      ]
     },
     "execution_count": 34,
     "metadata": {},
     "output_type": "execute_result"
    }
   ],
   "source": [
    "df_tfidf.head(2)"
   ]
  },
  {
   "cell_type": "code",
   "execution_count": null,
   "id": "a7a36151",
   "metadata": {},
   "outputs": [],
   "source": []
  },
  {
   "cell_type": "markdown",
   "id": "324f3318",
   "metadata": {
    "ExecuteTime": {
     "end_time": "2022-09-29T20:10:00.748944Z",
     "start_time": "2022-09-29T20:10:00.737928Z"
    }
   },
   "source": [
    "## transformer vectorization"
   ]
  },
  {
   "cell_type": "code",
   "execution_count": 35,
   "id": "44c11d7f",
   "metadata": {
    "ExecuteTime": {
     "end_time": "2022-09-30T21:31:03.857690Z",
     "start_time": "2022-09-30T21:31:03.843909Z"
    }
   },
   "outputs": [
    {
     "data": {
      "text/html": [
       "<div>\n",
       "<style scoped>\n",
       "    .dataframe tbody tr th:only-of-type {\n",
       "        vertical-align: middle;\n",
       "    }\n",
       "\n",
       "    .dataframe tbody tr th {\n",
       "        vertical-align: top;\n",
       "    }\n",
       "\n",
       "    .dataframe thead th {\n",
       "        text-align: right;\n",
       "    }\n",
       "</style>\n",
       "<table border=\"1\" class=\"dataframe\">\n",
       "  <thead>\n",
       "    <tr style=\"text-align: right;\">\n",
       "      <th></th>\n",
       "      <th>Number</th>\n",
       "      <th>IssueText</th>\n",
       "    </tr>\n",
       "  </thead>\n",
       "  <tbody>\n",
       "    <tr>\n",
       "      <th>0</th>\n",
       "      <td>7134</td>\n",
       "      <td>prevent ghost clike old browser android ngtouch request type bughow reproduce bug android ngtouch exemple ngtouch ngtouchpatchedngtouchimpact smallcomplexity smallthis issue relate detailed description comment prevent ghost clike old browser support stopimmediatepropagation android ghost click appear click element select element bug android ngtouch exemple ngtouch ngtouchpatche  thank pr check item help merge fast contribute doc information use issue template angular need change pull request update commit git commit update pull request git push help m sorry able verify contributor license agreement cla signature cla signature require code contribution sign cla ensure cla signature email address email address prs commits match sign cla corporation let know companys bunch ps sign cla past likely email address match sign cla update email address commit pr ps googler sign cla simplify cla verification process cla signature verify thank team triage process base determined priority doc update fix test prioritize change</td>\n",
       "    </tr>\n",
       "  </tbody>\n",
       "</table>\n",
       "</div>"
      ],
      "text/plain": [
       "   Number  \\\n",
       "0    7134   \n",
       "\n",
       "                                                                                                                                                                                                                                                                                                                                                                                                                                                                                                                                                                                                                                                                                                                                                                                                                                                                                                                                                                                                                                                              IssueText  \n",
       "0  prevent ghost clike old browser android ngtouch request type bughow reproduce bug android ngtouch exemple ngtouch ngtouchpatchedngtouchimpact smallcomplexity smallthis issue relate detailed description comment prevent ghost clike old browser support stopimmediatepropagation android ghost click appear click element select element bug android ngtouch exemple ngtouch ngtouchpatche  thank pr check item help merge fast contribute doc information use issue template angular need change pull request update commit git commit update pull request git push help m sorry able verify contributor license agreement cla signature cla signature require code contribution sign cla ensure cla signature email address email address prs commits match sign cla corporation let know companys bunch ps sign cla past likely email address match sign cla update email address commit pr ps googler sign cla simplify cla verification process cla signature verify thank team triage process base determined priority doc update fix test prioritize change  "
      ]
     },
     "execution_count": 35,
     "metadata": {},
     "output_type": "execute_result"
    }
   ],
   "source": [
    "df = pd.read_csv('../data/model_perf/filtered_defects.csv')\n",
    "df.head(1)"
   ]
  },
  {
   "cell_type": "code",
   "execution_count": 36,
   "id": "73c5d3fa",
   "metadata": {
    "ExecuteTime": {
     "end_time": "2022-09-30T21:31:08.880582Z",
     "start_time": "2022-09-30T21:31:03.859683Z"
    }
   },
   "outputs": [
    {
     "name": "stdout",
     "output_type": "stream",
     "text": [
      "total time taken 2.7602360248565674\n",
      "(10, 768)\n"
     ]
    }
   ],
   "source": [
    "df_trans = create_transformer_vec(df,TR_DATA_DIR,TR_OUTPUT_FILE)"
   ]
  },
  {
   "cell_type": "code",
   "execution_count": 37,
   "id": "16893ef6",
   "metadata": {
    "ExecuteTime": {
     "end_time": "2022-09-30T21:31:08.911447Z",
     "start_time": "2022-09-30T21:31:08.883007Z"
    }
   },
   "outputs": [
    {
     "data": {
      "text/html": [
       "<div>\n",
       "<style scoped>\n",
       "    .dataframe tbody tr th:only-of-type {\n",
       "        vertical-align: middle;\n",
       "    }\n",
       "\n",
       "    .dataframe tbody tr th {\n",
       "        vertical-align: top;\n",
       "    }\n",
       "\n",
       "    .dataframe thead th {\n",
       "        text-align: right;\n",
       "    }\n",
       "</style>\n",
       "<table border=\"1\" class=\"dataframe\">\n",
       "  <thead>\n",
       "    <tr style=\"text-align: right;\">\n",
       "      <th></th>\n",
       "      <th>Number</th>\n",
       "      <th>Transformer_vector</th>\n",
       "    </tr>\n",
       "  </thead>\n",
       "  <tbody>\n",
       "    <tr>\n",
       "      <th>0</th>\n",
       "      <td>7134</td>\n",
       "      <td>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</td>\n",
       "    </tr>\n",
       "    <tr>\n",
       "      <th>1</th>\n",
       "      <td>4598</td>\n",
       "      <td>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</td>\n",
       "    </tr>\n",
       "  </tbody>\n",
       "</table>\n",
       "</div>"
      ],
      "text/plain": [
       "   Number  \\\n",
       "0    7134   \n",
       "1    4598   \n",
       "\n",
       "                                                                                                                                                                                                                                                                                                                                                                                                                                                                                                                                                                                                                                                                                                                                                                                                                                                                                                                                                                                                                                                                                                                                                                                                                                                                                                                                                                                                                                                                                                                                                                                                                                                                                                                                                                                                                                                                                                                                                                                                                                                                                                                                                                                                                                                                                                                                                                                                                                                                                                                                                                                                                                                                                                                                                                                                                                                                                                                                                                                                                                                                                                                                                                                                                                                                                                                                                                                                                                                                                                                                                                                                                                                                                                                                                                                                                                                                                                                                                                                                                                                                                                                                                                                                                                                 Transformer_vector  \n",
       "0  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  \n",
       "1  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  "
      ]
     },
     "execution_count": 37,
     "metadata": {},
     "output_type": "execute_result"
    }
   ],
   "source": [
    "df_trans.head(2)"
   ]
  },
  {
   "cell_type": "code",
   "execution_count": 38,
   "id": "d34315ac",
   "metadata": {
    "ExecuteTime": {
     "end_time": "2022-09-30T21:31:08.927061Z",
     "start_time": "2022-09-30T21:31:08.914437Z"
    }
   },
   "outputs": [],
   "source": [
    "# TR_MAX_SIMILAR = df_trans.shape[0]-1\n",
    "# print(TR_MAX_SIMILAR)\n",
    "# df_trans_res = find_similar(TR_model,df_trans,TR_MAX_SIMILAR,TR_DATA_DIR,TR_OUTPUT_DATA_FILE)"
   ]
  },
  {
   "cell_type": "markdown",
   "id": "8245897a",
   "metadata": {},
   "source": [
    "# Model comparison - consolidated score"
   ]
  },
  {
   "cell_type": "code",
   "execution_count": 39,
   "id": "796392a6",
   "metadata": {
    "ExecuteTime": {
     "end_time": "2022-09-30T21:31:08.942319Z",
     "start_time": "2022-09-30T21:31:08.929048Z"
    }
   },
   "outputs": [],
   "source": [
    "model_comparison_lst = []"
   ]
  },
  {
   "cell_type": "code",
   "execution_count": 40,
   "id": "55920fc2",
   "metadata": {
    "ExecuteTime": {
     "end_time": "2022-09-30T21:31:09.966873Z",
     "start_time": "2022-09-30T21:31:08.944301Z"
    }
   },
   "outputs": [
    {
     "name": "stdout",
     "output_type": "stream",
     "text": [
      "{'W2V_fasttext': {7134: 0.33128, 4598: 0.28372, 4596: 0.99999, 4462: 0.3464, 4394: 0.37923, 19100: 1.0, 19101: 0.28302, 19102: 0.01845, 19103: 0.46001}}\n",
      "{'W2V_google': {7134: 0.04432, 4598: 0.06809, 4596: 0.99998, 4462: 0.05484, 4394: 0.23169, 19100: 1.0, 19101: 0.06911, 19102: 0.04996, 19103: 0.15608}}\n",
      "{'W2V_glove': {7134: 0.20532, 4598: 0.00264, 4596: 0.99997, 4462: 0.13661, 4394: 0.21942, 19100: 1.0, 19101: 0.00177, 19102: -0.04559, 19103: 0.24931}}\n",
      "{'tfidf_vector': {7134: 0.04094, 4598: 0.23668, 4596: 0.05701, 4462: 0.17166, 4394: 0.12458, 19100: 0.96352, 19101: 0.54862, 19102: 0.47077, 19103: 0.32758}}\n",
      "{'universal_encoder': {7134: 0.37555, 4598: 0.65752, 4596: 0.4021, 4462: 0.58658, 4394: 0.55063, 19100: 0.97752, 19101: 0.59721, 19102: 0.6051, 19103: 0.57482}}\n",
      "{'Transformer_vector': {7134: 0.81352, 4598: 0.8444, 4596: 0.88083, 4462: 0.89869, 4394: 0.84949, 19100: 0.99237, 19101: 0.92586, 19102: 0.95526, 19103: 0.90458}}\n"
     ]
    }
   ],
   "source": [
    "VECTOR_SIZE = 300\n",
    "dic1 = find_sim_score(df_word2vec,'W2V_fasttext')\n",
    "print(dic1)\n",
    "dic2 = find_sim_score(df_word2vec,'W2V_google')\n",
    "print(dic2)\n",
    "dic3 = find_sim_score(df_word2vec,'W2V_glove')\n",
    "print(dic3)\n",
    "dic4 = find_sim_score(df_tfidf,'tfidf_vector')\n",
    "print(dic4)\n",
    "VECTOR_SIZE=TR_VECTOR_SIZE\n",
    "dic5 = find_sim_score(df,'universal_encoder',combined_IssueText_embeddings)\n",
    "print(dic5)\n",
    "dic6 = find_sim_score(df_trans,'Transformer_vector')\n",
    "print(dic6)"
   ]
  },
  {
   "cell_type": "code",
   "execution_count": 41,
   "id": "7ede1565",
   "metadata": {
    "ExecuteTime": {
     "end_time": "2022-09-30T21:31:09.982138Z",
     "start_time": "2022-09-30T21:31:09.969807Z"
    }
   },
   "outputs": [],
   "source": [
    "model_comparison_lst.extend([dic1,dic2,dic3,dic4,dic5,dic6])"
   ]
  },
  {
   "cell_type": "code",
   "execution_count": 42,
   "id": "91fad15b",
   "metadata": {
    "ExecuteTime": {
     "end_time": "2022-09-30T21:31:10.028415Z",
     "start_time": "2022-09-30T21:31:09.985138Z"
    }
   },
   "outputs": [
    {
     "data": {
      "text/html": [
       "<div>\n",
       "<style scoped>\n",
       "    .dataframe tbody tr th:only-of-type {\n",
       "        vertical-align: middle;\n",
       "    }\n",
       "\n",
       "    .dataframe tbody tr th {\n",
       "        vertical-align: top;\n",
       "    }\n",
       "\n",
       "    .dataframe thead th {\n",
       "        text-align: right;\n",
       "    }\n",
       "</style>\n",
       "<table border=\"1\" class=\"dataframe\">\n",
       "  <thead>\n",
       "    <tr style=\"text-align: right;\">\n",
       "      <th></th>\n",
       "      <th>index</th>\n",
       "      <th>7134</th>\n",
       "      <th>4598</th>\n",
       "      <th>4596</th>\n",
       "      <th>4462</th>\n",
       "      <th>4394</th>\n",
       "      <th>19100</th>\n",
       "      <th>19101</th>\n",
       "      <th>19102</th>\n",
       "      <th>19103</th>\n",
       "    </tr>\n",
       "  </thead>\n",
       "  <tbody>\n",
       "    <tr>\n",
       "      <th>0</th>\n",
       "      <td>W2V_fasttext</td>\n",
       "      <td>0.33128</td>\n",
       "      <td>0.28372</td>\n",
       "      <td>0.99999</td>\n",
       "      <td>0.34640</td>\n",
       "      <td>0.37923</td>\n",
       "      <td>1.00000</td>\n",
       "      <td>0.28302</td>\n",
       "      <td>0.01845</td>\n",
       "      <td>0.46001</td>\n",
       "    </tr>\n",
       "    <tr>\n",
       "      <th>0</th>\n",
       "      <td>W2V_google</td>\n",
       "      <td>0.04432</td>\n",
       "      <td>0.06809</td>\n",
       "      <td>0.99998</td>\n",
       "      <td>0.05484</td>\n",
       "      <td>0.23169</td>\n",
       "      <td>1.00000</td>\n",
       "      <td>0.06911</td>\n",
       "      <td>0.04996</td>\n",
       "      <td>0.15608</td>\n",
       "    </tr>\n",
       "    <tr>\n",
       "      <th>0</th>\n",
       "      <td>W2V_glove</td>\n",
       "      <td>0.20532</td>\n",
       "      <td>0.00264</td>\n",
       "      <td>0.99997</td>\n",
       "      <td>0.13661</td>\n",
       "      <td>0.21942</td>\n",
       "      <td>1.00000</td>\n",
       "      <td>0.00177</td>\n",
       "      <td>-0.04559</td>\n",
       "      <td>0.24931</td>\n",
       "    </tr>\n",
       "    <tr>\n",
       "      <th>0</th>\n",
       "      <td>tfidf_vector</td>\n",
       "      <td>0.04094</td>\n",
       "      <td>0.23668</td>\n",
       "      <td>0.05701</td>\n",
       "      <td>0.17166</td>\n",
       "      <td>0.12458</td>\n",
       "      <td>0.96352</td>\n",
       "      <td>0.54862</td>\n",
       "      <td>0.47077</td>\n",
       "      <td>0.32758</td>\n",
       "    </tr>\n",
       "    <tr>\n",
       "      <th>0</th>\n",
       "      <td>universal_encoder</td>\n",
       "      <td>0.37555</td>\n",
       "      <td>0.65752</td>\n",
       "      <td>0.40210</td>\n",
       "      <td>0.58658</td>\n",
       "      <td>0.55063</td>\n",
       "      <td>0.97752</td>\n",
       "      <td>0.59721</td>\n",
       "      <td>0.60510</td>\n",
       "      <td>0.57482</td>\n",
       "    </tr>\n",
       "    <tr>\n",
       "      <th>0</th>\n",
       "      <td>Transformer_vector</td>\n",
       "      <td>0.81352</td>\n",
       "      <td>0.84440</td>\n",
       "      <td>0.88083</td>\n",
       "      <td>0.89869</td>\n",
       "      <td>0.84949</td>\n",
       "      <td>0.99237</td>\n",
       "      <td>0.92586</td>\n",
       "      <td>0.95526</td>\n",
       "      <td>0.90458</td>\n",
       "    </tr>\n",
       "  </tbody>\n",
       "</table>\n",
       "</div>"
      ],
      "text/plain": [
       "                index     7134     4598     4596     4462     4394    19100  \\\n",
       "0        W2V_fasttext  0.33128  0.28372  0.99999  0.34640  0.37923  1.00000   \n",
       "0          W2V_google  0.04432  0.06809  0.99998  0.05484  0.23169  1.00000   \n",
       "0           W2V_glove  0.20532  0.00264  0.99997  0.13661  0.21942  1.00000   \n",
       "0        tfidf_vector  0.04094  0.23668  0.05701  0.17166  0.12458  0.96352   \n",
       "0   universal_encoder  0.37555  0.65752  0.40210  0.58658  0.55063  0.97752   \n",
       "0  Transformer_vector  0.81352  0.84440  0.88083  0.89869  0.84949  0.99237   \n",
       "\n",
       "     19101    19102    19103  \n",
       "0  0.28302  0.01845  0.46001  \n",
       "0  0.06911  0.04996  0.15608  \n",
       "0  0.00177 -0.04559  0.24931  \n",
       "0  0.54862  0.47077  0.32758  \n",
       "0  0.59721  0.60510  0.57482  \n",
       "0  0.92586  0.95526  0.90458  "
      ]
     },
     "execution_count": 42,
     "metadata": {},
     "output_type": "execute_result"
    }
   ],
   "source": [
    "df_consolidated ,df_final_size = create_consolidated_df(model_comparison_lst)\n",
    "df_consolidated.head(6)"
   ]
  },
  {
   "cell_type": "code",
   "execution_count": 43,
   "id": "828d520c",
   "metadata": {
    "ExecuteTime": {
     "end_time": "2022-09-30T21:31:10.043719Z",
     "start_time": "2022-09-30T21:31:10.030740Z"
    }
   },
   "outputs": [],
   "source": [
    "df_consolidated.to_csv('../data/model_perf/4555_model_consolidated_results.csv')"
   ]
  },
  {
   "cell_type": "markdown",
   "id": "3f8eac82",
   "metadata": {},
   "source": [
    "# Consolidated  summary of Comparison of similarity scores"
   ]
  },
  {
   "cell_type": "code",
   "execution_count": 44,
   "id": "6bb23200",
   "metadata": {
    "ExecuteTime": {
     "end_time": "2022-09-30T21:31:10.107323Z",
     "start_time": "2022-09-30T21:31:10.046735Z"
    },
    "scrolled": true
   },
   "outputs": [
    {
     "name": "stdout",
     "output_type": "stream",
     "text": [
      "['W2V_fasttext', 'W2V_google', 'W2V_glove', 'tfidf_vector', 'universal_encoder', 'Transformer_vector']\n",
      "OrderedDict([(19100, 1.0), (4596, 0.99999), (19103, 0.46001), (4394, 0.37923), (4462, 0.3464), (7134, 0.33128), (4598, 0.28372), (19101, 0.28302), (19102, 0.01845)])\n",
      "OrderedDict([(19100, 1.0), (4596, 0.99998), (4394, 0.23169), (19103, 0.15608), (19101, 0.06911), (4598, 0.06809), (4462, 0.05484), (19102, 0.04996), (7134, 0.04432)])\n",
      "OrderedDict([(19100, 1.0), (4596, 0.99997), (19103, 0.24931), (4394, 0.21942), (7134, 0.20532), (4462, 0.13661), (4598, 0.00264), (19101, 0.00177), (19102, -0.04559)])\n",
      "OrderedDict([(19100, 0.96352), (19101, 0.54862), (19102, 0.47077), (19103, 0.32758), (4598, 0.23668), (4462, 0.17166), (4394, 0.12458), (4596, 0.05701), (7134, 0.04094)])\n",
      "OrderedDict([(19100, 0.97752), (4598, 0.65752), (19102, 0.6051), (19101, 0.59721), (4462, 0.58658), (19103, 0.57482), (4394, 0.55063), (4596, 0.4021), (7134, 0.37555)])\n",
      "OrderedDict([(19100, 0.99237), (19102, 0.95526), (19101, 0.92586), (19103, 0.90458), (4462, 0.89869), (4596, 0.88083), (4394, 0.84949), (4598, 0.8444), (7134, 0.81352)])\n"
     ]
    },
    {
     "data": {
      "text/html": [
       "<div>\n",
       "<style scoped>\n",
       "    .dataframe tbody tr th:only-of-type {\n",
       "        vertical-align: middle;\n",
       "    }\n",
       "\n",
       "    .dataframe tbody tr th {\n",
       "        vertical-align: top;\n",
       "    }\n",
       "\n",
       "    .dataframe thead th {\n",
       "        text-align: right;\n",
       "    }\n",
       "</style>\n",
       "<table border=\"1\" class=\"dataframe\">\n",
       "  <thead>\n",
       "    <tr style=\"text-align: right;\">\n",
       "      <th></th>\n",
       "      <th>models</th>\n",
       "      <th>defectnum_0</th>\n",
       "      <th>defect_score_0</th>\n",
       "      <th>defectnum_1</th>\n",
       "      <th>defect_score_1</th>\n",
       "      <th>defectnum_2</th>\n",
       "      <th>defect_score_2</th>\n",
       "      <th>defectnum_3</th>\n",
       "      <th>defect_score_3</th>\n",
       "      <th>defectnum_4</th>\n",
       "      <th>defect_score_4</th>\n",
       "      <th>defectnum_5</th>\n",
       "      <th>defect_score_5</th>\n",
       "      <th>defectnum_6</th>\n",
       "      <th>defect_score_6</th>\n",
       "      <th>defectnum_7</th>\n",
       "      <th>defect_score_7</th>\n",
       "      <th>defectnum_8</th>\n",
       "      <th>defect_score_8</th>\n",
       "    </tr>\n",
       "  </thead>\n",
       "  <tbody>\n",
       "    <tr>\n",
       "      <th>0</th>\n",
       "      <td>W2V_fasttext</td>\n",
       "      <td>19100</td>\n",
       "      <td>1.0</td>\n",
       "      <td>4596</td>\n",
       "      <td>0.99999</td>\n",
       "      <td>19103</td>\n",
       "      <td>0.46001</td>\n",
       "      <td>4394</td>\n",
       "      <td>0.37923</td>\n",
       "      <td>4462</td>\n",
       "      <td>0.3464</td>\n",
       "      <td>7134</td>\n",
       "      <td>0.33128</td>\n",
       "      <td>4598</td>\n",
       "      <td>0.28372</td>\n",
       "      <td>19101</td>\n",
       "      <td>0.28302</td>\n",
       "      <td>19102</td>\n",
       "      <td>0.01845</td>\n",
       "    </tr>\n",
       "    <tr>\n",
       "      <th>1</th>\n",
       "      <td>W2V_google</td>\n",
       "      <td>19100</td>\n",
       "      <td>1.0</td>\n",
       "      <td>4596</td>\n",
       "      <td>0.99998</td>\n",
       "      <td>4394</td>\n",
       "      <td>0.23169</td>\n",
       "      <td>19103</td>\n",
       "      <td>0.15608</td>\n",
       "      <td>19101</td>\n",
       "      <td>0.06911</td>\n",
       "      <td>4598</td>\n",
       "      <td>0.06809</td>\n",
       "      <td>4462</td>\n",
       "      <td>0.05484</td>\n",
       "      <td>19102</td>\n",
       "      <td>0.04996</td>\n",
       "      <td>7134</td>\n",
       "      <td>0.04432</td>\n",
       "    </tr>\n",
       "    <tr>\n",
       "      <th>2</th>\n",
       "      <td>W2V_glove</td>\n",
       "      <td>19100</td>\n",
       "      <td>1.0</td>\n",
       "      <td>4596</td>\n",
       "      <td>0.99997</td>\n",
       "      <td>19103</td>\n",
       "      <td>0.24931</td>\n",
       "      <td>4394</td>\n",
       "      <td>0.21942</td>\n",
       "      <td>7134</td>\n",
       "      <td>0.20532</td>\n",
       "      <td>4462</td>\n",
       "      <td>0.13661</td>\n",
       "      <td>4598</td>\n",
       "      <td>0.00264</td>\n",
       "      <td>19101</td>\n",
       "      <td>0.00177</td>\n",
       "      <td>19102</td>\n",
       "      <td>-0.04559</td>\n",
       "    </tr>\n",
       "    <tr>\n",
       "      <th>3</th>\n",
       "      <td>tfidf_vector</td>\n",
       "      <td>19100</td>\n",
       "      <td>0.96352</td>\n",
       "      <td>19101</td>\n",
       "      <td>0.54862</td>\n",
       "      <td>19102</td>\n",
       "      <td>0.47077</td>\n",
       "      <td>19103</td>\n",
       "      <td>0.32758</td>\n",
       "      <td>4598</td>\n",
       "      <td>0.23668</td>\n",
       "      <td>4462</td>\n",
       "      <td>0.17166</td>\n",
       "      <td>4394</td>\n",
       "      <td>0.12458</td>\n",
       "      <td>4596</td>\n",
       "      <td>0.05701</td>\n",
       "      <td>7134</td>\n",
       "      <td>0.04094</td>\n",
       "    </tr>\n",
       "    <tr>\n",
       "      <th>4</th>\n",
       "      <td>universal_encoder</td>\n",
       "      <td>19100</td>\n",
       "      <td>0.97752</td>\n",
       "      <td>4598</td>\n",
       "      <td>0.65752</td>\n",
       "      <td>19102</td>\n",
       "      <td>0.6051</td>\n",
       "      <td>19101</td>\n",
       "      <td>0.59721</td>\n",
       "      <td>4462</td>\n",
       "      <td>0.58658</td>\n",
       "      <td>19103</td>\n",
       "      <td>0.57482</td>\n",
       "      <td>4394</td>\n",
       "      <td>0.55063</td>\n",
       "      <td>4596</td>\n",
       "      <td>0.4021</td>\n",
       "      <td>7134</td>\n",
       "      <td>0.37555</td>\n",
       "    </tr>\n",
       "    <tr>\n",
       "      <th>5</th>\n",
       "      <td>Transformer_vector</td>\n",
       "      <td>19100</td>\n",
       "      <td>0.99237</td>\n",
       "      <td>19102</td>\n",
       "      <td>0.95526</td>\n",
       "      <td>19101</td>\n",
       "      <td>0.92586</td>\n",
       "      <td>19103</td>\n",
       "      <td>0.90458</td>\n",
       "      <td>4462</td>\n",
       "      <td>0.89869</td>\n",
       "      <td>4596</td>\n",
       "      <td>0.88083</td>\n",
       "      <td>4394</td>\n",
       "      <td>0.84949</td>\n",
       "      <td>4598</td>\n",
       "      <td>0.8444</td>\n",
       "      <td>7134</td>\n",
       "      <td>0.81352</td>\n",
       "    </tr>\n",
       "  </tbody>\n",
       "</table>\n",
       "</div>"
      ],
      "text/plain": [
       "               models defectnum_0 defect_score_0 defectnum_1 defect_score_1  \\\n",
       "0        W2V_fasttext       19100            1.0        4596        0.99999   \n",
       "1          W2V_google       19100            1.0        4596        0.99998   \n",
       "2           W2V_glove       19100            1.0        4596        0.99997   \n",
       "3        tfidf_vector       19100        0.96352       19101        0.54862   \n",
       "4   universal_encoder       19100        0.97752        4598        0.65752   \n",
       "5  Transformer_vector       19100        0.99237       19102        0.95526   \n",
       "\n",
       "  defectnum_2 defect_score_2 defectnum_3 defect_score_3 defectnum_4  \\\n",
       "0       19103        0.46001        4394        0.37923        4462   \n",
       "1        4394        0.23169       19103        0.15608       19101   \n",
       "2       19103        0.24931        4394        0.21942        7134   \n",
       "3       19102        0.47077       19103        0.32758        4598   \n",
       "4       19102         0.6051       19101        0.59721        4462   \n",
       "5       19101        0.92586       19103        0.90458        4462   \n",
       "\n",
       "  defect_score_4 defectnum_5 defect_score_5 defectnum_6 defect_score_6  \\\n",
       "0         0.3464        7134        0.33128        4598        0.28372   \n",
       "1        0.06911        4598        0.06809        4462        0.05484   \n",
       "2        0.20532        4462        0.13661        4598        0.00264   \n",
       "3        0.23668        4462        0.17166        4394        0.12458   \n",
       "4        0.58658       19103        0.57482        4394        0.55063   \n",
       "5        0.89869        4596        0.88083        4394        0.84949   \n",
       "\n",
       "  defectnum_7 defect_score_7 defectnum_8 defect_score_8  \n",
       "0       19101        0.28302       19102        0.01845  \n",
       "1       19102        0.04996        7134        0.04432  \n",
       "2       19101        0.00177       19102       -0.04559  \n",
       "3        4596        0.05701        7134        0.04094  \n",
       "4        4596         0.4021        7134        0.37555  \n",
       "5        4598         0.8444        7134        0.81352  "
      ]
     },
     "execution_count": 44,
     "metadata": {},
     "output_type": "execute_result"
    }
   ],
   "source": [
    "df_final = create_final_sorted_consolidated_df(df_final_size,model_comparison_lst)\n",
    "df_final.head(6)"
   ]
  },
  {
   "cell_type": "code",
   "execution_count": 45,
   "id": "89a39199",
   "metadata": {
    "ExecuteTime": {
     "end_time": "2022-09-30T21:31:10.123079Z",
     "start_time": "2022-09-30T21:31:10.111359Z"
    }
   },
   "outputs": [],
   "source": [
    "df_final.to_csv('../data/model_perf/4555_model_sorted_consolidated_results.csv')"
   ]
  },
  {
   "cell_type": "code",
   "execution_count": null,
   "id": "4baaed48",
   "metadata": {},
   "outputs": [],
   "source": []
  },
  {
   "cell_type": "code",
   "execution_count": null,
   "id": "2715952d",
   "metadata": {},
   "outputs": [],
   "source": []
  },
  {
   "cell_type": "code",
   "execution_count": null,
   "id": "ed528fe4",
   "metadata": {},
   "outputs": [],
   "source": []
  },
  {
   "cell_type": "code",
   "execution_count": null,
   "id": "6362654e",
   "metadata": {},
   "outputs": [],
   "source": []
  },
  {
   "cell_type": "code",
   "execution_count": null,
   "id": "2edb526b",
   "metadata": {},
   "outputs": [],
   "source": []
  },
  {
   "cell_type": "code",
   "execution_count": null,
   "id": "a65b8801",
   "metadata": {},
   "outputs": [],
   "source": []
  },
  {
   "cell_type": "code",
   "execution_count": null,
   "id": "451a360f",
   "metadata": {},
   "outputs": [],
   "source": []
  },
  {
   "cell_type": "code",
   "execution_count": null,
   "id": "5b52cb71",
   "metadata": {},
   "outputs": [],
   "source": []
  },
  {
   "cell_type": "code",
   "execution_count": null,
   "id": "c7b480bd",
   "metadata": {},
   "outputs": [],
   "source": []
  },
  {
   "cell_type": "code",
   "execution_count": null,
   "id": "bfce912c",
   "metadata": {},
   "outputs": [],
   "source": []
  },
  {
   "cell_type": "code",
   "execution_count": null,
   "id": "621a6a9d",
   "metadata": {},
   "outputs": [],
   "source": []
  },
  {
   "cell_type": "code",
   "execution_count": null,
   "id": "f4fa850b",
   "metadata": {},
   "outputs": [],
   "source": []
  },
  {
   "cell_type": "code",
   "execution_count": null,
   "id": "6dca7985",
   "metadata": {},
   "outputs": [],
   "source": []
  },
  {
   "cell_type": "code",
   "execution_count": null,
   "id": "eb913dd4",
   "metadata": {},
   "outputs": [],
   "source": []
  },
  {
   "cell_type": "code",
   "execution_count": null,
   "id": "7d41baaf",
   "metadata": {},
   "outputs": [],
   "source": []
  },
  {
   "cell_type": "code",
   "execution_count": null,
   "id": "f02be54e",
   "metadata": {},
   "outputs": [],
   "source": []
  },
  {
   "cell_type": "code",
   "execution_count": null,
   "id": "3365dd99",
   "metadata": {},
   "outputs": [],
   "source": []
  },
  {
   "cell_type": "code",
   "execution_count": null,
   "id": "74f91d44",
   "metadata": {},
   "outputs": [],
   "source": []
  },
  {
   "cell_type": "code",
   "execution_count": null,
   "id": "e9795fb2",
   "metadata": {},
   "outputs": [],
   "source": []
  },
  {
   "cell_type": "code",
   "execution_count": null,
   "id": "479d8a02",
   "metadata": {},
   "outputs": [],
   "source": []
  },
  {
   "cell_type": "code",
   "execution_count": null,
   "id": "100a9c90",
   "metadata": {},
   "outputs": [],
   "source": []
  },
  {
   "cell_type": "code",
   "execution_count": null,
   "id": "75f8182f",
   "metadata": {},
   "outputs": [],
   "source": []
  }
 ],
 "metadata": {
  "kernelspec": {
   "display_name": "Python 3.10.10 64-bit (microsoft store)",
   "language": "python",
   "name": "python3"
  },
  "language_info": {
   "codemirror_mode": {
    "name": "ipython",
    "version": 3
   },
   "file_extension": ".py",
   "mimetype": "text/x-python",
   "name": "python",
   "nbconvert_exporter": "python",
   "pygments_lexer": "ipython3",
   "version": "3.10.11"
  },
  "toc": {
   "base_numbering": 1,
   "nav_menu": {},
   "number_sections": false,
   "sideBar": true,
   "skip_h1_title": false,
   "title_cell": "Table of Contents",
   "title_sidebar": "Contents",
   "toc_cell": false,
   "toc_position": {
    "height": "calc(100% - 180px)",
    "left": "10px",
    "top": "150px",
    "width": "341.319px"
   },
   "toc_section_display": true,
   "toc_window_display": true
  },
  "vscode": {
   "interpreter": {
    "hash": "cc42a535c417c1b15ba0223d00d3099b9b7781e15592cc58f9812e97a667838e"
   }
  }
 },
 "nbformat": 4,
 "nbformat_minor": 5
}
