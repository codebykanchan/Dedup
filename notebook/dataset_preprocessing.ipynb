{
 "cells": [
  {
   "cell_type": "code",
   "execution_count": 1,
   "id": "09ab9048",
   "metadata": {
    "ExecuteTime": {
     "end_time": "2022-09-09T17:59:32.160184Z",
     "start_time": "2022-09-09T17:59:31.658500Z"
    }
   },
   "outputs": [],
   "source": [
    "import numpy as np\n",
    "import pandas as pd\n",
    "import re\n",
    "import sys\n",
    "\n",
    "#display max column width\n",
    "pd.set_option('display.max_rows',None)\n",
    "pd.set_option('display.max_colwidth', None)\n",
    "import numpy as np\n",
    "import pandas as pd\n",
    "import re\n",
    "\n",
    "#display max column width\n",
    "pd.set_option('display.max_rows',None)\n",
    "pd.set_option('display.max_colwidth', None)\n"
   ]
  },
  {
   "cell_type": "code",
   "execution_count": 2,
   "id": "6fba411d",
   "metadata": {
    "ExecuteTime": {
     "end_time": "2022-09-09T17:59:32.176238Z",
     "start_time": "2022-09-09T17:59:32.161122Z"
    }
   },
   "outputs": [],
   "source": [
    "sys.path.append('../utility')"
   ]
  },
  {
   "cell_type": "code",
   "execution_count": 3,
   "id": "89623982",
   "metadata": {
    "ExecuteTime": {
     "end_time": "2022-09-09T17:59:37.153320Z",
     "start_time": "2022-09-09T17:59:32.178173Z"
    }
   },
   "outputs": [],
   "source": [
    "from text_preprocessing import *"
   ]
  },
  {
   "cell_type": "code",
   "execution_count": 4,
   "id": "83e5b977",
   "metadata": {
    "ExecuteTime": {
     "end_time": "2022-09-09T17:59:37.673401Z",
     "start_time": "2022-09-09T17:59:37.155277Z"
    }
   },
   "outputs": [],
   "source": [
    "df = pd.read_csv('../data/angularjs_imagetext.csv')"
   ]
  },
  {
   "cell_type": "code",
   "execution_count": 5,
   "id": "e390ab3f",
   "metadata": {
    "ExecuteTime": {
     "end_time": "2022-09-09T17:59:37.720571Z",
     "start_time": "2022-09-09T17:59:37.675401Z"
    }
   },
   "outputs": [
    {
     "data": {
      "text/html": [
       "<div>\n",
       "<style scoped>\n",
       "    .dataframe tbody tr th:only-of-type {\n",
       "        vertical-align: middle;\n",
       "    }\n",
       "\n",
       "    .dataframe tbody tr th {\n",
       "        vertical-align: top;\n",
       "    }\n",
       "\n",
       "    .dataframe thead th {\n",
       "        text-align: right;\n",
       "    }\n",
       "</style>\n",
       "<table border=\"1\" class=\"dataframe\">\n",
       "  <thead>\n",
       "    <tr style=\"text-align: right;\">\n",
       "      <th></th>\n",
       "      <th>Id</th>\n",
       "      <th>Number</th>\n",
       "      <th>Title</th>\n",
       "      <th>LabelsNames</th>\n",
       "      <th>LabelDescriptions</th>\n",
       "      <th>State</th>\n",
       "      <th>CreatedDate</th>\n",
       "      <th>ClosedDate</th>\n",
       "      <th>IsDraft</th>\n",
       "      <th>IssueType</th>\n",
       "      <th>Description</th>\n",
       "      <th>StateReason</th>\n",
       "      <th>AttachmentText</th>\n",
       "      <th>Duplicate</th>\n",
       "      <th>Comments</th>\n",
       "      <th>SimilarityScore</th>\n",
       "    </tr>\n",
       "  </thead>\n",
       "  <tbody>\n",
       "    <tr>\n",
       "      <th>0</th>\n",
       "      <td>1185843130</td>\n",
       "      <td>17186</td>\n",
       "      <td>[]</td>\n",
       "      <td>NaN</td>\n",
       "      <td>NaN</td>\n",
       "      <td>closed</td>\n",
       "      <td>2022-03-30T04:14:09Z</td>\n",
       "      <td>2022-03-30T09:03:06Z</td>\n",
       "      <td>N</td>\n",
       "      <td>NaN</td>\n",
       "      <td>NaN</td>\n",
       "      <td>completed</td>\n",
       "      <td>NaN</td>\n",
       "      <td>NaN</td>\n",
       "      <td>NaN</td>\n",
       "      <td>NaN</td>\n",
       "    </tr>\n",
       "  </tbody>\n",
       "</table>\n",
       "</div>"
      ],
      "text/plain": [
       "           Id  Number Title LabelsNames LabelDescriptions   State  \\\n",
       "0  1185843130   17186    []         NaN               NaN  closed   \n",
       "\n",
       "            CreatedDate            ClosedDate IsDraft IssueType Description  \\\n",
       "0  2022-03-30T04:14:09Z  2022-03-30T09:03:06Z       N       NaN         NaN   \n",
       "\n",
       "  StateReason AttachmentText Duplicate Comments  SimilarityScore  \n",
       "0   completed            NaN       NaN      NaN              NaN  "
      ]
     },
     "execution_count": 5,
     "metadata": {},
     "output_type": "execute_result"
    }
   ],
   "source": [
    "df.head(1)"
   ]
  },
  {
   "cell_type": "code",
   "execution_count": 6,
   "id": "b46ccd27",
   "metadata": {
    "ExecuteTime": {
     "end_time": "2022-09-09T17:59:37.751656Z",
     "start_time": "2022-09-09T17:59:37.722468Z"
    }
   },
   "outputs": [
    {
     "data": {
      "text/plain": [
       "Title             object\n",
       "AttachmentText    object\n",
       "Description       object\n",
       "Comments          object\n",
       "dtype: object"
      ]
     },
     "execution_count": 6,
     "metadata": {},
     "output_type": "execute_result"
    }
   ],
   "source": [
    "# text columns that will be used for model building\n",
    "cols = ['Title','AttachmentText','Description','Comments']\n",
    "df[cols].dtypes"
   ]
  },
  {
   "cell_type": "code",
   "execution_count": 7,
   "id": "5f36bb33",
   "metadata": {
    "ExecuteTime": {
     "end_time": "2022-09-09T17:59:37.767660Z",
     "start_time": "2022-09-09T17:59:37.753652Z"
    }
   },
   "outputs": [],
   "source": [
    "def count_nan_values(df, cols,filler):\n",
    "    # before filling\n",
    "    for col in cols:\n",
    "        print(f'{col} has {df[col].isna().sum()} NAN values')\n",
    "    print('\\n ------- \\n')\n",
    "    df[cols] = df[cols].fillna('')   \n",
    "    for col in cols:\n",
    "        print(f'{col} has {df[col].isna().sum()} NAN values')        "
   ]
  },
  {
   "cell_type": "code",
   "execution_count": 8,
   "id": "62ec8892",
   "metadata": {
    "ExecuteTime": {
     "end_time": "2022-09-09T17:59:37.814492Z",
     "start_time": "2022-09-09T17:59:37.770600Z"
    }
   },
   "outputs": [
    {
     "name": "stdout",
     "output_type": "stream",
     "text": [
      "Title has 0 NAN values\n",
      "AttachmentText has 16623 NAN values\n",
      "Description has 1429 NAN values\n",
      "Comments has 1369 NAN values\n",
      "\n",
      " ------- \n",
      "\n",
      "Title has 0 NAN values\n",
      "AttachmentText has 0 NAN values\n",
      "Description has 0 NAN values\n",
      "Comments has 0 NAN values\n"
     ]
    }
   ],
   "source": [
    "count_nan_values(df,cols,\"\")"
   ]
  },
  {
   "cell_type": "code",
   "execution_count": 9,
   "id": "b7601cef",
   "metadata": {
    "ExecuteTime": {
     "end_time": "2022-09-09T17:59:37.829869Z",
     "start_time": "2022-09-09T17:59:37.815510Z"
    }
   },
   "outputs": [
    {
     "data": {
      "text/html": [
       "<div>\n",
       "<style scoped>\n",
       "    .dataframe tbody tr th:only-of-type {\n",
       "        vertical-align: middle;\n",
       "    }\n",
       "\n",
       "    .dataframe tbody tr th {\n",
       "        vertical-align: top;\n",
       "    }\n",
       "\n",
       "    .dataframe thead th {\n",
       "        text-align: right;\n",
       "    }\n",
       "</style>\n",
       "<table border=\"1\" class=\"dataframe\">\n",
       "  <thead>\n",
       "    <tr style=\"text-align: right;\">\n",
       "      <th></th>\n",
       "      <th>Title</th>\n",
       "      <th>AttachmentText</th>\n",
       "      <th>Description</th>\n",
       "      <th>Comments</th>\n",
       "    </tr>\n",
       "  </thead>\n",
       "  <tbody>\n",
       "    <tr>\n",
       "      <th>0</th>\n",
       "      <td>[]</td>\n",
       "      <td></td>\n",
       "      <td></td>\n",
       "      <td></td>\n",
       "    </tr>\n",
       "    <tr>\n",
       "      <th>1</th>\n",
       "      <td>[]</td>\n",
       "      <td></td>\n",
       "      <td>[]</td>\n",
       "      <td>Thanks for your pull request! It looks like this may be your first contribution to a Google open source project. Before we can look at your pull request youll need to sign a Contributor License Agreement (CLA).For more information open the [CLA check for this pull request](https://github.com/angular/angular.js/pull/17185/checks?check_run_id=5681990041).#;;</td>\n",
       "    </tr>\n",
       "  </tbody>\n",
       "</table>\n",
       "</div>"
      ],
      "text/plain": [
       "  Title AttachmentText Description  \\\n",
       "0    []                              \n",
       "1    []                         []   \n",
       "\n",
       "                                                                                                                                                                                                                                                                                                                                                                 Comments  \n",
       "0                                                                                                                                                                                                                                                                                                                                                                          \n",
       "1  Thanks for your pull request! It looks like this may be your first contribution to a Google open source project. Before we can look at your pull request youll need to sign a Contributor License Agreement (CLA).For more information open the [CLA check for this pull request](https://github.com/angular/angular.js/pull/17185/checks?check_run_id=5681990041).#;;  "
      ]
     },
     "execution_count": 9,
     "metadata": {},
     "output_type": "execute_result"
    }
   ],
   "source": [
    "df[cols].head(2)"
   ]
  },
  {
   "cell_type": "code",
   "execution_count": 10,
   "id": "1d527e43",
   "metadata": {
    "ExecuteTime": {
     "end_time": "2022-09-09T18:03:14.152912Z",
     "start_time": "2022-09-09T17:59:37.832860Z"
    }
   },
   "outputs": [],
   "source": [
    "new_cols = clean_pipeline(df,cols)"
   ]
  },
  {
   "cell_type": "code",
   "execution_count": 11,
   "id": "3dda7131",
   "metadata": {
    "ExecuteTime": {
     "end_time": "2022-09-09T18:03:14.229883Z",
     "start_time": "2022-09-09T18:03:14.156810Z"
    }
   },
   "outputs": [
    {
     "data": {
      "text/html": [
       "<div>\n",
       "<style scoped>\n",
       "    .dataframe tbody tr th:only-of-type {\n",
       "        vertical-align: middle;\n",
       "    }\n",
       "\n",
       "    .dataframe tbody tr th {\n",
       "        vertical-align: top;\n",
       "    }\n",
       "\n",
       "    .dataframe thead th {\n",
       "        text-align: right;\n",
       "    }\n",
       "</style>\n",
       "<table border=\"1\" class=\"dataframe\">\n",
       "  <thead>\n",
       "    <tr style=\"text-align: right;\">\n",
       "      <th></th>\n",
       "      <th>Title_new</th>\n",
       "      <th>AttachmentText_new</th>\n",
       "      <th>Description_new</th>\n",
       "      <th>Comments_new</th>\n",
       "    </tr>\n",
       "  </thead>\n",
       "  <tbody>\n",
       "    <tr>\n",
       "      <th>0</th>\n",
       "      <td></td>\n",
       "      <td></td>\n",
       "      <td></td>\n",
       "      <td></td>\n",
       "    </tr>\n",
       "    <tr>\n",
       "      <th>1</th>\n",
       "      <td></td>\n",
       "      <td></td>\n",
       "      <td></td>\n",
       "      <td>thank pull request look contribution open source project look pull request need contributor license agreement cla information open cla check pull request</td>\n",
       "    </tr>\n",
       "    <tr>\n",
       "      <th>2</th>\n",
       "      <td>upgrade issue</td>\n",
       "      <td></td>\n",
       "      <td>upgrade version upgrade version get code happening error console kindly help share controller debugger profilecontroller function scope rootscope modal window document location dataservice timeout var participantid cert participantid</td>\n",
       "      <td>tracker suitable support request project currently end life finally mind big leap break change sure check migration guide break change version cope</td>\n",
       "    </tr>\n",
       "    <tr>\n",
       "      <th>3</th>\n",
       "      <td>correct typing sanitize</td>\n",
       "      <td></td>\n",
       "      <td>m submit regression security issue issue cause new browser versionmisse need type constructor sanitize</td>\n",
       "      <td></td>\n",
       "    </tr>\n",
       "    <tr>\n",
       "      <th>4</th>\n",
       "      <td></td>\n",
       "      <td></td>\n",
       "      <td></td>\n",
       "      <td>thank pull request look contribution open source project look pull request need contributor license agreement cla information open cla check pull request</td>\n",
       "    </tr>\n",
       "    <tr>\n",
       "      <th>5</th>\n",
       "      <td>ngchange handler call submit blank type number field change</td>\n",
       "      <td></td>\n",
       "      <td>suppose meet definition critical go file case helpful spend lot time tracking issue confuse non obvious happen m submit regression security issue issue cause new browser versioncurrent behavior initialise clear field blank change handler call submit change expect new behavior change handler call minimal reproduction problem instruction example submit function scope function change function submit submit button demo console log message change field untouched initialised value version browser chrome firefox bit</td>\n",
       "      <td></td>\n",
       "    </tr>\n",
       "    <tr>\n",
       "      <th>6</th>\n",
       "      <td>vulnerable library angular javascript snyk</td>\n",
       "      <td></td>\n",
       "      <td>modewe long accept change critical bug fix try publish update version android apk error update apk reject vulnerable library angular javascript asset lib angular sanitize asset lib ionic js angular asset lib ionic js angular asset lib angular animate asset lib angular asset lib angular sanitize asset lib angular animate asset lib ionic js angular asset lib ionic js angular asset lib ionic js angular asset lib ionic js angular asset lib ionic js angular asset lib ionic js angular asset www lib angular time face kind problem help m submit regression security issue issue cause new browser version current behavior expect new behavior minimal reproduction problem instruction version browser chrome edge mobile chrome android web browser io safari io uiwebview io wkwebview opera xx</td>\n",
       "      <td>need update angularjs late version correct place ask programming help try venue stack overflow need situation detail thank</td>\n",
       "    </tr>\n",
       "    <tr>\n",
       "      <th>7</th>\n",
       "      <td></td>\n",
       "      <td></td>\n",
       "      <td></td>\n",
       "      <td></td>\n",
       "    </tr>\n",
       "    <tr>\n",
       "      <th>8</th>\n",
       "      <td></td>\n",
       "      <td></td>\n",
       "      <td></td>\n",
       "      <td></td>\n",
       "    </tr>\n",
       "    <tr>\n",
       "      <th>9</th>\n",
       "      <td>update end life message</td>\n",
       "      <td></td>\n",
       "      <td>change update message angularjs end life place doc homepage support page miss want update changelog assume happen automatically release process</td>\n",
       "      <td>screenshot run locally desktop screen shoot screen shoot screen shoot screen shot need add bit space mobile version picker obscure splaktar ve change banner message container version picker avoid overlap update style adjust okay viewport size container opaque ignore transparency 😑 ve change cdn text release archive</td>\n",
       "    </tr>\n",
       "  </tbody>\n",
       "</table>\n",
       "</div>"
      ],
      "text/plain": [
       "                                                     Title_new  \\\n",
       "0                                                                \n",
       "1                                                                \n",
       "2                                                upgrade issue   \n",
       "3                                      correct typing sanitize   \n",
       "4                                                                \n",
       "5  ngchange handler call submit blank type number field change   \n",
       "6                   vulnerable library angular javascript snyk   \n",
       "7                                                                \n",
       "8                                                                \n",
       "9                                      update end life message   \n",
       "\n",
       "  AttachmentText_new  \\\n",
       "0                      \n",
       "1                      \n",
       "2                      \n",
       "3                      \n",
       "4                      \n",
       "5                      \n",
       "6                      \n",
       "7                      \n",
       "8                      \n",
       "9                      \n",
       "\n",
       "                                                                                                                                                                                                                                                                                                                                                                                                                                                                                                                                                                                                                                                                                                                                                                                                     Description_new  \\\n",
       "0                                                                                                                                                                                                                                                                                                                                                                                                                                                                                                                                                                                                                                                                                                                                                                                                                      \n",
       "1                                                                                                                                                                                                                                                                                                                                                                                                                                                                                                                                                                                                                                                                                                                                                                                                                      \n",
       "2                                                                                                                                                                                                                                                                                                                                                                                                                                                                                                                                                                          upgrade version upgrade version get code happening error console kindly help share controller debugger profilecontroller function scope rootscope modal window document location dataservice timeout var participantid cert participantid   \n",
       "3                                                                                                                                                                                                                                                                                                                                                                                                                                                                                                                                                                                                                                                                                                             m submit regression security issue issue cause new browser versionmisse need type constructor sanitize   \n",
       "4                                                                                                                                                                                                                                                                                                                                                                                                                                                                                                                                                                                                                                                                                                                                                                                                                      \n",
       "5                                                                                                                                                                                                                                                                                 suppose meet definition critical go file case helpful spend lot time tracking issue confuse non obvious happen m submit regression security issue issue cause new browser versioncurrent behavior initialise clear field blank change handler call submit change expect new behavior change handler call minimal reproduction problem instruction example submit function scope function change function submit submit button demo console log message change field untouched initialised value version browser chrome firefox bit   \n",
       "6  modewe long accept change critical bug fix try publish update version android apk error update apk reject vulnerable library angular javascript asset lib angular sanitize asset lib ionic js angular asset lib ionic js angular asset lib angular animate asset lib angular asset lib angular sanitize asset lib angular animate asset lib ionic js angular asset lib ionic js angular asset lib ionic js angular asset lib ionic js angular asset lib ionic js angular asset lib ionic js angular asset www lib angular time face kind problem help m submit regression security issue issue cause new browser version current behavior expect new behavior minimal reproduction problem instruction version browser chrome edge mobile chrome android web browser io safari io uiwebview io wkwebview opera xx   \n",
       "7                                                                                                                                                                                                                                                                                                                                                                                                                                                                                                                                                                                                                                                                                                                                                                                                                      \n",
       "8                                                                                                                                                                                                                                                                                                                                                                                                                                                                                                                                                                                                                                                                                                                                                                                                                      \n",
       "9                                                                                                                                                                                                                                                                                                                                                                                                                                                                                                                                                                                                                                                                    change update message angularjs end life place doc homepage support page miss want update changelog assume happen automatically release process   \n",
       "\n",
       "                                                                                                                                                                                                                                                                                                                   Comments_new  \n",
       "0                                                                                                                                                                                                                                                                                                                                \n",
       "1                                                                                                                                                                     thank pull request look contribution open source project look pull request need contributor license agreement cla information open cla check pull request  \n",
       "2                                                                                                                                                                           tracker suitable support request project currently end life finally mind big leap break change sure check migration guide break change version cope  \n",
       "3                                                                                                                                                                                                                                                                                                                                \n",
       "4                                                                                                                                                                     thank pull request look contribution open source project look pull request need contributor license agreement cla information open cla check pull request  \n",
       "5                                                                                                                                                                                                                                                                                                                                \n",
       "6                                                                                                                                                                                                    need update angularjs late version correct place ask programming help try venue stack overflow need situation detail thank  \n",
       "7                                                                                                                                                                                                                                                                                                                                \n",
       "8                                                                                                                                                                                                                                                                                                                                \n",
       "9  screenshot run locally desktop screen shoot screen shoot screen shoot screen shot need add bit space mobile version picker obscure splaktar ve change banner message container version picker avoid overlap update style adjust okay viewport size container opaque ignore transparency 😑 ve change cdn text release archive  "
      ]
     },
     "execution_count": 11,
     "metadata": {},
     "output_type": "execute_result"
    }
   ],
   "source": [
    "df[new_cols].head(10)"
   ]
  },
  {
   "cell_type": "code",
   "execution_count": 12,
   "id": "970222bf",
   "metadata": {
    "ExecuteTime": {
     "end_time": "2022-09-09T18:03:15.208157Z",
     "start_time": "2022-09-09T18:03:14.231476Z"
    }
   },
   "outputs": [],
   "source": [
    "df.to_csv('../data/angularjs_processed_withimagetext.csv')"
   ]
  }
 ],
 "metadata": {
  "kernelspec": {
   "display_name": "Python 3.10.10 64-bit (microsoft store)",
   "language": "python",
   "name": "python3"
  },
  "language_info": {
   "codemirror_mode": {
    "name": "ipython",
    "version": 3
   },
   "file_extension": ".py",
   "mimetype": "text/x-python",
   "name": "python",
   "nbconvert_exporter": "python",
   "pygments_lexer": "ipython3",
   "version": "3.10.11"
  },
  "vscode": {
   "interpreter": {
    "hash": "cc42a535c417c1b15ba0223d00d3099b9b7781e15592cc58f9812e97a667838e"
   }
  }
 },
 "nbformat": 4,
 "nbformat_minor": 5
}
